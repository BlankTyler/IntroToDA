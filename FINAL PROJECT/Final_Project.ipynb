{
 "cells": [
  {
   "cell_type": "markdown",
   "id": "27eb1232",
   "metadata": {},
   "source": [
    "# The Spaceship Titanic <a name='top'></a>\n",
    "By: Tyler Blankenship, Kao Takahama, Tyler Selby, Safal Lamichhane, Niharika Rasthapuram, and Zach Seitz<br>\n",
    "CS603: Introduction to Data Analytics <br>\n",
    "Spring 2023<br>\n",
    "Southeast Missouri State University<br>\n",
    "Dr. Liu<br>\n",
    "\n",
    "Data set: https://www.kaggle.com/c/spaceship-titanic\n",
    "\n",
    "\n",
    "# Table of Contents\n",
    "* [Introduction](#introduction)<br><br>\n",
    "* [Data Loading](#data-loading)\n",
    "    * [Exploration](#exploration)\n",
    "    * [The `Age` feature](#age)\n",
    "    * [Missing data](#missing)\n",
    "    * [Data loading summary](#load-summary)<br><br>    \n",
    "* [Data Cleaning](#data-cleaning)\n",
    "    * [Drop `Name`](#drop-name)\n",
    "    * [Populate spending `NaN` values](#populate)\n",
    "    * [Drop `NaN` rows](#drop)\n",
    "    * [Feature extraction](#extraction)\n",
    "        * [The `Deck` and `Side` features](#deck-side)\n",
    "        * [The `Group` feature](#group)\n",
    "    * [Data cleaning summary](#clean-summary)<br><br> \n",
    "* [Data Wrangling and Aggregation](#wrangling)\n",
    "    * [Part 1: General exploration](#p1)\n",
    "        * [Data set balance](#balance)\n",
    "        * [Categorical feature summary](#cat-stats)\n",
    "        * [The `VIP` feature](#vip)\n",
    "        * [`Age` distribution](#age-dist)\n",
    "        * [Part 1 summary](#p1-summary)<br><br>\n",
    "    * [Part 2: Passenger survival](#p2)\n",
    "        * [Question 1: How is embarking from or traveling to a specific location associated with survival?](#p2q1)\n",
    "            * [Question 1 summary](#p2q1-summary)<br><br>\n",
    "        * [Question 2: Is passenger socioeconomic status related to survival?](#p2q2)\n",
    "            * [The `TotalSpent` feature](#spent)\n",
    "            * [The `Class` feature](#class)\n",
    "            * [Question 2 summary](#p2q2-summary)<br><br>\n",
    "        * [Question 3: Is CryoSleep related to survival?](#p2q3)\n",
    "            * [Question 3 summary](#p2q3-summary)<br><br>\n",
    "        * [Question 4: Is location of cabin (`Deck`, `Side`) related to survival](#p2q4)\n",
    "            * [Question 4 summary](#p2q4-summary)<br><br>\n",
    "        * [Part 2 summary](#p2-summary)<br><br>\n",
    "* [Conclusion](#conclusion)<br><br>\n",
    "* [Future Directions](#future)<br><br>"
   ]
  },
  {
   "cell_type": "markdown",
   "id": "32d30f0d",
   "metadata": {},
   "source": [
    "# Introduction <a name='introduction'></a>\n",
    "[Back to top](#top)\n",
    "\n",
    "The data set contains various features about passengers aboard the Spaceship Titanic when it was stuck by a spacetime anomaly. The most important feature of the data set is whether the passenger was transported to an alternate dimension (`Transported == True`; did not survive) or remained on board (`Transported == False`; survived).\n",
    "\n",
    "Kaggle provides two sets of data, a training set and a test set. Since the test set is used to test ML models, it does not contain `Transported` data. As such, we will only be using the data contained within the training set, `train.csv`.\n",
    "\n",
    "The goal for this project is distinct from that of the Kaggle competition. Instead, while the discussion here will include properties affecting passenger survival, it will also touch on general exploration of the data with a focus on implementing common data analysis methodologies."
   ]
  },
  {
   "cell_type": "markdown",
   "id": "e758e66f",
   "metadata": {},
   "source": [
    "# Data Loading <a name='data-loading'></a>\n",
    "[Back to top](#top)\n",
    "\n",
    "Before meaningful analysis may occur, it's important to get acquanited with the data set. In this section, we'll do some basic exploration of the data and its properties. We'll also check for missing data and decide how to handle it, and we'll determine whether or not various other data cleaning operations will be necessary."
   ]
  },
  {
   "cell_type": "markdown",
   "id": "71035044",
   "metadata": {},
   "source": [
    "## Exploration <a name='exploration'></a>\n",
    "[Back to top](#top)\n",
    "\n",
    "One thing to keep in mind while exploring is the nature of the data. For example, different operations may be performed on numerical data compared to categorical data. Furthermore, both numerical and categorical data have sub types that may facilitate other methods. \n",
    "\n",
    "While data sets already contain a number of features, it's often helpful to extract other features by splitting up or amalgamating a set of features. Sometimes, these extracted features will be obvious from the outset, while others may not reveal themselves until further analysis occurs. Still others may only be helpful temporarily or for a specific methodology. Over the course of the analysis, we will encounter a couple of these types of features. \n",
    "\n",
    "However, before we get ahead of ourselves, we first need to import the necessary libraries and load in the data."
   ]
  },
  {
   "cell_type": "code",
   "execution_count": 1,
   "id": "6cdd80f3",
   "metadata": {},
   "outputs": [],
   "source": [
    "import pandas as pd\n",
    "import numpy as np\n",
    "import matplotlib.pyplot as plt\n",
    "import seaborn as sns"
   ]
  },
  {
   "cell_type": "code",
   "execution_count": 2,
   "id": "03142107",
   "metadata": {
    "scrolled": false
   },
   "outputs": [
    {
     "data": {
      "text/html": [
       "<div>\n",
       "<style scoped>\n",
       "    .dataframe tbody tr th:only-of-type {\n",
       "        vertical-align: middle;\n",
       "    }\n",
       "\n",
       "    .dataframe tbody tr th {\n",
       "        vertical-align: top;\n",
       "    }\n",
       "\n",
       "    .dataframe thead th {\n",
       "        text-align: right;\n",
       "    }\n",
       "</style>\n",
       "<table border=\"1\" class=\"dataframe\">\n",
       "  <thead>\n",
       "    <tr style=\"text-align: right;\">\n",
       "      <th></th>\n",
       "      <th>PassengerId</th>\n",
       "      <th>HomePlanet</th>\n",
       "      <th>CryoSleep</th>\n",
       "      <th>Cabin</th>\n",
       "      <th>Destination</th>\n",
       "      <th>Age</th>\n",
       "      <th>VIP</th>\n",
       "      <th>RoomService</th>\n",
       "      <th>FoodCourt</th>\n",
       "      <th>ShoppingMall</th>\n",
       "      <th>Spa</th>\n",
       "      <th>VRDeck</th>\n",
       "      <th>Name</th>\n",
       "      <th>Transported</th>\n",
       "    </tr>\n",
       "  </thead>\n",
       "  <tbody>\n",
       "    <tr>\n",
       "      <th>0</th>\n",
       "      <td>0001_01</td>\n",
       "      <td>Europa</td>\n",
       "      <td>False</td>\n",
       "      <td>B/0/P</td>\n",
       "      <td>TRAPPIST-1e</td>\n",
       "      <td>39.0</td>\n",
       "      <td>False</td>\n",
       "      <td>0.0</td>\n",
       "      <td>0.0</td>\n",
       "      <td>0.0</td>\n",
       "      <td>0.0</td>\n",
       "      <td>0.0</td>\n",
       "      <td>Maham Ofracculy</td>\n",
       "      <td>False</td>\n",
       "    </tr>\n",
       "  </tbody>\n",
       "</table>\n",
       "</div>"
      ],
      "text/plain": [
       "  PassengerId HomePlanet CryoSleep  Cabin  Destination   Age    VIP  \\\n",
       "0     0001_01     Europa     False  B/0/P  TRAPPIST-1e  39.0  False   \n",
       "\n",
       "   RoomService  FoodCourt  ShoppingMall  Spa  VRDeck             Name  \\\n",
       "0          0.0        0.0           0.0  0.0     0.0  Maham Ofracculy   \n",
       "\n",
       "   Transported  \n",
       "0        False  "
      ]
     },
     "execution_count": 2,
     "metadata": {},
     "output_type": "execute_result"
    }
   ],
   "source": [
    "# Load the data set\n",
    "df = pd.read_csv('train.csv')\n",
    "df.head(1)"
   ]
  },
  {
   "cell_type": "code",
   "execution_count": 3,
   "id": "e0201c0f",
   "metadata": {
    "scrolled": false
   },
   "outputs": [
    {
     "name": "stdout",
     "output_type": "stream",
     "text": [
      "<class 'pandas.core.frame.DataFrame'>\n",
      "RangeIndex: 8693 entries, 0 to 8692\n",
      "Data columns (total 14 columns):\n",
      " #   Column        Non-Null Count  Dtype  \n",
      "---  ------        --------------  -----  \n",
      " 0   PassengerId   8693 non-null   object \n",
      " 1   HomePlanet    8492 non-null   object \n",
      " 2   CryoSleep     8476 non-null   object \n",
      " 3   Cabin         8494 non-null   object \n",
      " 4   Destination   8511 non-null   object \n",
      " 5   Age           8514 non-null   float64\n",
      " 6   VIP           8490 non-null   object \n",
      " 7   RoomService   8512 non-null   float64\n",
      " 8   FoodCourt     8510 non-null   float64\n",
      " 9   ShoppingMall  8485 non-null   float64\n",
      " 10  Spa           8510 non-null   float64\n",
      " 11  VRDeck        8505 non-null   float64\n",
      " 12  Name          8493 non-null   object \n",
      " 13  Transported   8693 non-null   bool   \n",
      "dtypes: bool(1), float64(6), object(7)\n",
      "memory usage: 891.5+ KB\n"
     ]
    }
   ],
   "source": [
    "# Get basic summary of data set\n",
    "df.info()"
   ]
  },
  {
   "cell_type": "markdown",
   "id": "29e912b8",
   "metadata": {},
   "source": [
    "It looks like data set contains 8,693 total entries and 14 unique features. The table above also shows that the only columns without missing data are `PassengerId` and `Transported`. Ultimately, however, no single feature is missing so much data that it is worth dropping outright, so we'll keep them all in until we explore a bit further.\n",
    "\n",
    "We can see that, while most of the data is categorical, there are some numerical features we can look more closely at using built-in pandas methods. For example, columns 7-11 above represent the amount of money passengers spent at the respective amenity aboard the Spaceship Titanic."
   ]
  },
  {
   "cell_type": "code",
   "execution_count": 4,
   "id": "91a997c8",
   "metadata": {
    "scrolled": true
   },
   "outputs": [
    {
     "data": {
      "text/html": [
       "<div>\n",
       "<style scoped>\n",
       "    .dataframe tbody tr th:only-of-type {\n",
       "        vertical-align: middle;\n",
       "    }\n",
       "\n",
       "    .dataframe tbody tr th {\n",
       "        vertical-align: top;\n",
       "    }\n",
       "\n",
       "    .dataframe thead th {\n",
       "        text-align: right;\n",
       "    }\n",
       "</style>\n",
       "<table border=\"1\" class=\"dataframe\">\n",
       "  <thead>\n",
       "    <tr style=\"text-align: right;\">\n",
       "      <th></th>\n",
       "      <th>Age</th>\n",
       "      <th>RoomService</th>\n",
       "      <th>FoodCourt</th>\n",
       "      <th>ShoppingMall</th>\n",
       "      <th>Spa</th>\n",
       "      <th>VRDeck</th>\n",
       "    </tr>\n",
       "  </thead>\n",
       "  <tbody>\n",
       "    <tr>\n",
       "      <th>count</th>\n",
       "      <td>8514.000000</td>\n",
       "      <td>8512.000000</td>\n",
       "      <td>8510.000000</td>\n",
       "      <td>8485.000000</td>\n",
       "      <td>8510.000000</td>\n",
       "      <td>8505.000000</td>\n",
       "    </tr>\n",
       "    <tr>\n",
       "      <th>mean</th>\n",
       "      <td>28.827930</td>\n",
       "      <td>224.687617</td>\n",
       "      <td>458.077203</td>\n",
       "      <td>173.729169</td>\n",
       "      <td>311.138778</td>\n",
       "      <td>304.854791</td>\n",
       "    </tr>\n",
       "    <tr>\n",
       "      <th>std</th>\n",
       "      <td>14.489021</td>\n",
       "      <td>666.717663</td>\n",
       "      <td>1611.489240</td>\n",
       "      <td>604.696458</td>\n",
       "      <td>1136.705535</td>\n",
       "      <td>1145.717189</td>\n",
       "    </tr>\n",
       "    <tr>\n",
       "      <th>min</th>\n",
       "      <td>0.000000</td>\n",
       "      <td>0.000000</td>\n",
       "      <td>0.000000</td>\n",
       "      <td>0.000000</td>\n",
       "      <td>0.000000</td>\n",
       "      <td>0.000000</td>\n",
       "    </tr>\n",
       "    <tr>\n",
       "      <th>25%</th>\n",
       "      <td>19.000000</td>\n",
       "      <td>0.000000</td>\n",
       "      <td>0.000000</td>\n",
       "      <td>0.000000</td>\n",
       "      <td>0.000000</td>\n",
       "      <td>0.000000</td>\n",
       "    </tr>\n",
       "    <tr>\n",
       "      <th>50%</th>\n",
       "      <td>27.000000</td>\n",
       "      <td>0.000000</td>\n",
       "      <td>0.000000</td>\n",
       "      <td>0.000000</td>\n",
       "      <td>0.000000</td>\n",
       "      <td>0.000000</td>\n",
       "    </tr>\n",
       "    <tr>\n",
       "      <th>75%</th>\n",
       "      <td>38.000000</td>\n",
       "      <td>47.000000</td>\n",
       "      <td>76.000000</td>\n",
       "      <td>27.000000</td>\n",
       "      <td>59.000000</td>\n",
       "      <td>46.000000</td>\n",
       "    </tr>\n",
       "    <tr>\n",
       "      <th>max</th>\n",
       "      <td>79.000000</td>\n",
       "      <td>14327.000000</td>\n",
       "      <td>29813.000000</td>\n",
       "      <td>23492.000000</td>\n",
       "      <td>22408.000000</td>\n",
       "      <td>24133.000000</td>\n",
       "    </tr>\n",
       "  </tbody>\n",
       "</table>\n",
       "</div>"
      ],
      "text/plain": [
       "               Age   RoomService     FoodCourt  ShoppingMall           Spa  \\\n",
       "count  8514.000000   8512.000000   8510.000000   8485.000000   8510.000000   \n",
       "mean     28.827930    224.687617    458.077203    173.729169    311.138778   \n",
       "std      14.489021    666.717663   1611.489240    604.696458   1136.705535   \n",
       "min       0.000000      0.000000      0.000000      0.000000      0.000000   \n",
       "25%      19.000000      0.000000      0.000000      0.000000      0.000000   \n",
       "50%      27.000000      0.000000      0.000000      0.000000      0.000000   \n",
       "75%      38.000000     47.000000     76.000000     27.000000     59.000000   \n",
       "max      79.000000  14327.000000  29813.000000  23492.000000  22408.000000   \n",
       "\n",
       "             VRDeck  \n",
       "count   8505.000000  \n",
       "mean     304.854791  \n",
       "std     1145.717189  \n",
       "min        0.000000  \n",
       "25%        0.000000  \n",
       "50%        0.000000  \n",
       "75%       46.000000  \n",
       "max    24133.000000  "
      ]
     },
     "execution_count": 4,
     "metadata": {},
     "output_type": "execute_result"
    }
   ],
   "source": [
    "df.describe()"
   ]
  },
  {
   "cell_type": "markdown",
   "id": "38657149",
   "metadata": {},
   "source": [
    "### The `Age` feature <a name='age'></a>\n",
    "[Back to top](#top)\n",
    "\n",
    "\n",
    "The zeros in the `min` row of the table above show possible missing data. To get a better idea of whether or not these are true zeros, let's look more closely at the `Age` column."
   ]
  },
  {
   "cell_type": "code",
   "execution_count": 5,
   "id": "10518a48",
   "metadata": {
    "scrolled": false
   },
   "outputs": [
    {
     "name": "stdout",
     "output_type": "stream",
     "text": [
      "      PassengerId\n",
      "Age              \n",
      "0.0           178\n",
      "1.0            67\n",
      "2.0            75\n",
      "3.0            75\n",
      "4.0            71\n",
      "...           ...\n",
      "75.0            4\n",
      "76.0            2\n",
      "77.0            2\n",
      "78.0            3\n",
      "79.0            3\n",
      "\n",
      "[80 rows x 1 columns]\n"
     ]
    }
   ],
   "source": [
    "# Get count of ages amongst passengers\n",
    "df_age_0_count = df.groupby('Age')[['PassengerId']].count()\n",
    "print(df_age_0_count)"
   ]
  },
  {
   "cell_type": "markdown",
   "id": "93a58f8e",
   "metadata": {},
   "source": [
    "The table above show's that here are 178 passengers where `Age == 0`. Let's take a look at the first five of them."
   ]
  },
  {
   "cell_type": "code",
   "execution_count": 6,
   "id": "8c0dfddd",
   "metadata": {
    "scrolled": true
   },
   "outputs": [
    {
     "data": {
      "text/html": [
       "<div>\n",
       "<style scoped>\n",
       "    .dataframe tbody tr th:only-of-type {\n",
       "        vertical-align: middle;\n",
       "    }\n",
       "\n",
       "    .dataframe tbody tr th {\n",
       "        vertical-align: top;\n",
       "    }\n",
       "\n",
       "    .dataframe thead th {\n",
       "        text-align: right;\n",
       "    }\n",
       "</style>\n",
       "<table border=\"1\" class=\"dataframe\">\n",
       "  <thead>\n",
       "    <tr style=\"text-align: right;\">\n",
       "      <th></th>\n",
       "      <th>PassengerId</th>\n",
       "      <th>HomePlanet</th>\n",
       "      <th>CryoSleep</th>\n",
       "      <th>Cabin</th>\n",
       "      <th>Destination</th>\n",
       "      <th>Age</th>\n",
       "      <th>VIP</th>\n",
       "      <th>RoomService</th>\n",
       "      <th>FoodCourt</th>\n",
       "      <th>ShoppingMall</th>\n",
       "      <th>Spa</th>\n",
       "      <th>VRDeck</th>\n",
       "      <th>Name</th>\n",
       "      <th>Transported</th>\n",
       "    </tr>\n",
       "  </thead>\n",
       "  <tbody>\n",
       "    <tr>\n",
       "      <th>19</th>\n",
       "      <td>0017_01</td>\n",
       "      <td>Earth</td>\n",
       "      <td>False</td>\n",
       "      <td>G/0/P</td>\n",
       "      <td>TRAPPIST-1e</td>\n",
       "      <td>0.0</td>\n",
       "      <td>False</td>\n",
       "      <td>0.0</td>\n",
       "      <td>0.0</td>\n",
       "      <td>0.0</td>\n",
       "      <td>0.0</td>\n",
       "      <td>0.0</td>\n",
       "      <td>Lyde Brighttt</td>\n",
       "      <td>True</td>\n",
       "    </tr>\n",
       "    <tr>\n",
       "      <th>61</th>\n",
       "      <td>0067_01</td>\n",
       "      <td>Earth</td>\n",
       "      <td>True</td>\n",
       "      <td>G/10/S</td>\n",
       "      <td>PSO J318.5-22</td>\n",
       "      <td>0.0</td>\n",
       "      <td>False</td>\n",
       "      <td>0.0</td>\n",
       "      <td>0.0</td>\n",
       "      <td>0.0</td>\n",
       "      <td>0.0</td>\n",
       "      <td>0.0</td>\n",
       "      <td>Ninaha Leeves</td>\n",
       "      <td>True</td>\n",
       "    </tr>\n",
       "    <tr>\n",
       "      <th>86</th>\n",
       "      <td>0092_02</td>\n",
       "      <td>Earth</td>\n",
       "      <td>True</td>\n",
       "      <td>G/9/P</td>\n",
       "      <td>TRAPPIST-1e</td>\n",
       "      <td>0.0</td>\n",
       "      <td>False</td>\n",
       "      <td>0.0</td>\n",
       "      <td>0.0</td>\n",
       "      <td>NaN</td>\n",
       "      <td>0.0</td>\n",
       "      <td>0.0</td>\n",
       "      <td>Stald Hewson</td>\n",
       "      <td>True</td>\n",
       "    </tr>\n",
       "    <tr>\n",
       "      <th>102</th>\n",
       "      <td>0108_03</td>\n",
       "      <td>Earth</td>\n",
       "      <td>False</td>\n",
       "      <td>G/19/S</td>\n",
       "      <td>TRAPPIST-1e</td>\n",
       "      <td>0.0</td>\n",
       "      <td>NaN</td>\n",
       "      <td>0.0</td>\n",
       "      <td>0.0</td>\n",
       "      <td>0.0</td>\n",
       "      <td>0.0</td>\n",
       "      <td>0.0</td>\n",
       "      <td>Oline Handertiz</td>\n",
       "      <td>True</td>\n",
       "    </tr>\n",
       "    <tr>\n",
       "      <th>157</th>\n",
       "      <td>0179_02</td>\n",
       "      <td>Earth</td>\n",
       "      <td>False</td>\n",
       "      <td>G/26/P</td>\n",
       "      <td>TRAPPIST-1e</td>\n",
       "      <td>0.0</td>\n",
       "      <td>False</td>\n",
       "      <td>0.0</td>\n",
       "      <td>0.0</td>\n",
       "      <td>0.0</td>\n",
       "      <td>0.0</td>\n",
       "      <td>0.0</td>\n",
       "      <td>Raque Webstephrey</td>\n",
       "      <td>False</td>\n",
       "    </tr>\n",
       "  </tbody>\n",
       "</table>\n",
       "</div>"
      ],
      "text/plain": [
       "    PassengerId HomePlanet CryoSleep   Cabin    Destination  Age    VIP  \\\n",
       "19      0017_01      Earth     False   G/0/P    TRAPPIST-1e  0.0  False   \n",
       "61      0067_01      Earth      True  G/10/S  PSO J318.5-22  0.0  False   \n",
       "86      0092_02      Earth      True   G/9/P    TRAPPIST-1e  0.0  False   \n",
       "102     0108_03      Earth     False  G/19/S    TRAPPIST-1e  0.0    NaN   \n",
       "157     0179_02      Earth     False  G/26/P    TRAPPIST-1e  0.0  False   \n",
       "\n",
       "     RoomService  FoodCourt  ShoppingMall  Spa  VRDeck               Name  \\\n",
       "19           0.0        0.0           0.0  0.0     0.0      Lyde Brighttt   \n",
       "61           0.0        0.0           0.0  0.0     0.0      Ninaha Leeves   \n",
       "86           0.0        0.0           NaN  0.0     0.0       Stald Hewson   \n",
       "102          0.0        0.0           0.0  0.0     0.0    Oline Handertiz   \n",
       "157          0.0        0.0           0.0  0.0     0.0  Raque Webstephrey   \n",
       "\n",
       "     Transported  \n",
       "19          True  \n",
       "61          True  \n",
       "86          True  \n",
       "102         True  \n",
       "157        False  "
      ]
     },
     "execution_count": 6,
     "metadata": {},
     "output_type": "execute_result"
    }
   ],
   "source": [
    "# Get all passengers whose Age == 0\n",
    "df_age_0 = df[df.Age == 0]\n",
    "df_age_0.head()"
   ]
  },
  {
   "cell_type": "markdown",
   "id": "181bafde",
   "metadata": {},
   "source": [
    "Now let's take a look at the first five passengers where `Age == NaN`."
   ]
  },
  {
   "cell_type": "code",
   "execution_count": 7,
   "id": "ba337b45",
   "metadata": {
    "scrolled": true
   },
   "outputs": [
    {
     "data": {
      "text/html": [
       "<div>\n",
       "<style scoped>\n",
       "    .dataframe tbody tr th:only-of-type {\n",
       "        vertical-align: middle;\n",
       "    }\n",
       "\n",
       "    .dataframe tbody tr th {\n",
       "        vertical-align: top;\n",
       "    }\n",
       "\n",
       "    .dataframe thead th {\n",
       "        text-align: right;\n",
       "    }\n",
       "</style>\n",
       "<table border=\"1\" class=\"dataframe\">\n",
       "  <thead>\n",
       "    <tr style=\"text-align: right;\">\n",
       "      <th></th>\n",
       "      <th>PassengerId</th>\n",
       "      <th>HomePlanet</th>\n",
       "      <th>CryoSleep</th>\n",
       "      <th>Cabin</th>\n",
       "      <th>Destination</th>\n",
       "      <th>Age</th>\n",
       "      <th>VIP</th>\n",
       "      <th>RoomService</th>\n",
       "      <th>FoodCourt</th>\n",
       "      <th>ShoppingMall</th>\n",
       "      <th>Spa</th>\n",
       "      <th>VRDeck</th>\n",
       "      <th>Name</th>\n",
       "      <th>Transported</th>\n",
       "    </tr>\n",
       "  </thead>\n",
       "  <tbody>\n",
       "    <tr>\n",
       "      <th>50</th>\n",
       "      <td>0052_01</td>\n",
       "      <td>Earth</td>\n",
       "      <td>False</td>\n",
       "      <td>G/6/S</td>\n",
       "      <td>TRAPPIST-1e</td>\n",
       "      <td>NaN</td>\n",
       "      <td>False</td>\n",
       "      <td>4.0</td>\n",
       "      <td>0.0</td>\n",
       "      <td>2.0</td>\n",
       "      <td>4683.0</td>\n",
       "      <td>0.0</td>\n",
       "      <td>Elaney Hubbarton</td>\n",
       "      <td>False</td>\n",
       "    </tr>\n",
       "    <tr>\n",
       "      <th>64</th>\n",
       "      <td>0068_01</td>\n",
       "      <td>Mars</td>\n",
       "      <td>False</td>\n",
       "      <td>E/4/S</td>\n",
       "      <td>TRAPPIST-1e</td>\n",
       "      <td>NaN</td>\n",
       "      <td>False</td>\n",
       "      <td>793.0</td>\n",
       "      <td>0.0</td>\n",
       "      <td>2.0</td>\n",
       "      <td>253.0</td>\n",
       "      <td>0.0</td>\n",
       "      <td>Cinst Binie</td>\n",
       "      <td>False</td>\n",
       "    </tr>\n",
       "    <tr>\n",
       "      <th>137</th>\n",
       "      <td>0149_01</td>\n",
       "      <td>Earth</td>\n",
       "      <td>True</td>\n",
       "      <td>G/27/S</td>\n",
       "      <td>55 Cancri e</td>\n",
       "      <td>NaN</td>\n",
       "      <td>False</td>\n",
       "      <td>0.0</td>\n",
       "      <td>0.0</td>\n",
       "      <td>0.0</td>\n",
       "      <td>0.0</td>\n",
       "      <td>0.0</td>\n",
       "      <td>Billya Hubbarrison</td>\n",
       "      <td>True</td>\n",
       "    </tr>\n",
       "    <tr>\n",
       "      <th>181</th>\n",
       "      <td>0202_02</td>\n",
       "      <td>Europa</td>\n",
       "      <td>False</td>\n",
       "      <td>A/2/P</td>\n",
       "      <td>55 Cancri e</td>\n",
       "      <td>NaN</td>\n",
       "      <td>False</td>\n",
       "      <td>0.0</td>\n",
       "      <td>2433.0</td>\n",
       "      <td>NaN</td>\n",
       "      <td>878.0</td>\n",
       "      <td>443.0</td>\n",
       "      <td>Vegas Embleng</td>\n",
       "      <td>True</td>\n",
       "    </tr>\n",
       "    <tr>\n",
       "      <th>184</th>\n",
       "      <td>0206_01</td>\n",
       "      <td>Europa</td>\n",
       "      <td>False</td>\n",
       "      <td>C/9/S</td>\n",
       "      <td>55 Cancri e</td>\n",
       "      <td>NaN</td>\n",
       "      <td>False</td>\n",
       "      <td>2.0</td>\n",
       "      <td>1720.0</td>\n",
       "      <td>12.0</td>\n",
       "      <td>1125.0</td>\n",
       "      <td>122.0</td>\n",
       "      <td>Nuson Brugashed</td>\n",
       "      <td>True</td>\n",
       "    </tr>\n",
       "  </tbody>\n",
       "</table>\n",
       "</div>"
      ],
      "text/plain": [
       "    PassengerId HomePlanet CryoSleep   Cabin  Destination  Age    VIP  \\\n",
       "50      0052_01      Earth     False   G/6/S  TRAPPIST-1e  NaN  False   \n",
       "64      0068_01       Mars     False   E/4/S  TRAPPIST-1e  NaN  False   \n",
       "137     0149_01      Earth      True  G/27/S  55 Cancri e  NaN  False   \n",
       "181     0202_02     Europa     False   A/2/P  55 Cancri e  NaN  False   \n",
       "184     0206_01     Europa     False   C/9/S  55 Cancri e  NaN  False   \n",
       "\n",
       "     RoomService  FoodCourt  ShoppingMall     Spa  VRDeck                Name  \\\n",
       "50           4.0        0.0           2.0  4683.0     0.0    Elaney Hubbarton   \n",
       "64         793.0        0.0           2.0   253.0     0.0         Cinst Binie   \n",
       "137          0.0        0.0           0.0     0.0     0.0  Billya Hubbarrison   \n",
       "181          0.0     2433.0           NaN   878.0   443.0       Vegas Embleng   \n",
       "184          2.0     1720.0          12.0  1125.0   122.0     Nuson Brugashed   \n",
       "\n",
       "     Transported  \n",
       "50         False  \n",
       "64         False  \n",
       "137         True  \n",
       "181         True  \n",
       "184         True  "
      ]
     },
     "execution_count": 7,
     "metadata": {},
     "output_type": "execute_result"
    }
   ],
   "source": [
    "# Get all passengers where Age == NaN\n",
    "df_age_nan = df[pd.isna(df.Age)]\n",
    "df_age_nan.head()"
   ]
  },
  {
   "cell_type": "markdown",
   "id": "bca9aa5b",
   "metadata": {},
   "source": [
    "Since we can see that the lists of passengers are different, we now know that the data set differentiates between passengers whose age is actually 0 (taken to mean less than 1 year of age) and those whose age is missing. As such, we can safely drop rows where `Age == NaN`."
   ]
  },
  {
   "cell_type": "markdown",
   "id": "ee1f79ba",
   "metadata": {},
   "source": [
    "### Missing data <a name='missing'></a>\n",
    "[Back to top](#top)\n",
    "\n",
    "It may be possible to drop all rows with missing data using built-in functionality provided by padas. Let's first get a count of the number of rows with missing data:"
   ]
  },
  {
   "cell_type": "code",
   "execution_count": 8,
   "id": "a3e22295",
   "metadata": {
    "scrolled": true
   },
   "outputs": [
    {
     "name": "stdout",
     "output_type": "stream",
     "text": [
      "Number with missing data: 2087\n",
      "Remaining rows: 6606\n",
      "Percent of data set retained: 75.99217761417232%\n"
     ]
    }
   ],
   "source": [
    "# Check how many rows contain missing data\n",
    "original_len = df.shape[0]\n",
    "new_len = df.dropna(inplace=False).shape[0]\n",
    "\n",
    "print(f\"Number with missing data: {original_len - new_len}\")\n",
    "print(f\"Remaining rows: {new_len}\")\n",
    "\n",
    "print(f\"Percent of data set retained: {new_len/original_len*100}%\")"
   ]
  },
  {
   "cell_type": "markdown",
   "id": "5a73847e",
   "metadata": {},
   "source": [
    "It looks like we'll keep about 76% of our original data set if we drop all `NaN` values. However, some columns will likely be dropped anyway, so if we hold off until we pare down the data set some more, we might be able to save some of our data. For example, we don't expect any relationship between `Name` and any other feature (since it's mostly unique to each passenger), so we can safely drop that column before dropping `NaN` values."
   ]
  },
  {
   "cell_type": "markdown",
   "id": "8960252d",
   "metadata": {},
   "source": [
    "The `CryoSleep` feature also has important implications on the data set. `CryoSleep` is a boolean representing whether or not the passenger was frozen for the duration of the trip. If `CryoSleep == True` for a given passenger, that passenger would not be able to spend money at the amenities listed in columns 7-11. As such, if any of those data are missing for passengers where `CryoSleep == True`, we can safely populate those values with zeros.\n",
    "\n",
    "We can count the number of rows that meet this condition:"
   ]
  },
  {
   "cell_type": "code",
   "execution_count": 9,
   "id": "aed29f1c",
   "metadata": {
    "scrolled": true
   },
   "outputs": [
    {
     "name": "stdout",
     "output_type": "stream",
     "text": [
      "The number of sleepers with NaN spending values: 347\n"
     ]
    }
   ],
   "source": [
    "# Count the number of rows where CryoSleep == True\n",
    "# and any value in columns 7-11 is NaN\n",
    "condition = df['CryoSleep'] & df.iloc[:, 7:12].isna().any(axis=1)\n",
    "num_records = len(df[condition])\n",
    "\n",
    "print(f\"The number of sleepers with NaN spending values: {num_records}\")"
   ]
  },
  {
   "cell_type": "markdown",
   "id": "917b184e",
   "metadata": {},
   "source": [
    "It looks like that would prevent us from losing 347 rows, which is about 4% of the total data set, so that's definitely a worthwhile operation.\n",
    "\n",
    "Finally, we'll check for duplicate entries, so we can remove any that are found."
   ]
  },
  {
   "cell_type": "code",
   "execution_count": 10,
   "id": "c8c6ba50",
   "metadata": {},
   "outputs": [
    {
     "name": "stdout",
     "output_type": "stream",
     "text": [
      "Number of duplicate rows: 0\n"
     ]
    }
   ],
   "source": [
    "# Check for duplicates\n",
    "duplicates = df[df.duplicated()]\n",
    "\n",
    "print(\"Number of duplicate rows:\", len(duplicates))"
   ]
  },
  {
   "cell_type": "markdown",
   "id": "40be8dfc",
   "metadata": {},
   "source": [
    "### Data loading summary <a name='load-summary'></a>\n",
    "[Back to top](#top)\n",
    "\n",
    "The data loading decisions we've made can be summarized as follows:\n",
    "- Remove `Name` column\n",
    "- Populate with zeros any `NaN` value in columns 7-11 where `CryoSleep == True`\n",
    "- Drop all remaining rows containing `NaN` values\n",
    "- Drop duplicate rows (we will skip this step since there weren't any)\n",
    "\n",
    "These represent the more obvious cleaning operations that present themselves without looking into the dataset further. As such, it may be necessary to carry out other cleaning methods elsewhere. Importantly, we can also extract some features, which we'll talk more about in the Data Wrangling section."
   ]
  },
  {
   "cell_type": "markdown",
   "id": "d02de10d",
   "metadata": {},
   "source": [
    "## Data Cleaning <a name='data-cleaning'></a>\n",
    "[Back to top](#top)\n",
    "\n",
    "In this section, we'll implement our decisions from the previous section to drop rows and columns that are irrelevant to our analysis (duplicate data, NaN values, values that are unique in every row, etc.).\n",
    "\n",
    "After the data set is cleaned, we will continue the preprocessing process and extract some features that may be useful in further analysis."
   ]
  },
  {
   "cell_type": "markdown",
   "id": "13fe42d6",
   "metadata": {},
   "source": [
    "### Drop `Name` <a name=\"drop-name\"></a>\n",
    "[Back to top](#top)"
   ]
  },
  {
   "cell_type": "code",
   "execution_count": 11,
   "id": "0b96672b",
   "metadata": {
    "scrolled": true
   },
   "outputs": [],
   "source": [
    "# Drop Name column\n",
    "df = df.drop(['Name'], axis=1)"
   ]
  },
  {
   "cell_type": "code",
   "execution_count": 12,
   "id": "51e0e6b2",
   "metadata": {},
   "outputs": [
    {
     "data": {
      "text/html": [
       "<div>\n",
       "<style scoped>\n",
       "    .dataframe tbody tr th:only-of-type {\n",
       "        vertical-align: middle;\n",
       "    }\n",
       "\n",
       "    .dataframe tbody tr th {\n",
       "        vertical-align: top;\n",
       "    }\n",
       "\n",
       "    .dataframe thead th {\n",
       "        text-align: right;\n",
       "    }\n",
       "</style>\n",
       "<table border=\"1\" class=\"dataframe\">\n",
       "  <thead>\n",
       "    <tr style=\"text-align: right;\">\n",
       "      <th></th>\n",
       "      <th>PassengerId</th>\n",
       "      <th>HomePlanet</th>\n",
       "      <th>CryoSleep</th>\n",
       "      <th>Cabin</th>\n",
       "      <th>Destination</th>\n",
       "      <th>Age</th>\n",
       "      <th>VIP</th>\n",
       "      <th>RoomService</th>\n",
       "      <th>FoodCourt</th>\n",
       "      <th>ShoppingMall</th>\n",
       "      <th>Spa</th>\n",
       "      <th>VRDeck</th>\n",
       "      <th>Transported</th>\n",
       "    </tr>\n",
       "  </thead>\n",
       "  <tbody>\n",
       "    <tr>\n",
       "      <th>0</th>\n",
       "      <td>0001_01</td>\n",
       "      <td>Europa</td>\n",
       "      <td>False</td>\n",
       "      <td>B/0/P</td>\n",
       "      <td>TRAPPIST-1e</td>\n",
       "      <td>39.0</td>\n",
       "      <td>False</td>\n",
       "      <td>0.0</td>\n",
       "      <td>0.0</td>\n",
       "      <td>0.0</td>\n",
       "      <td>0.0</td>\n",
       "      <td>0.0</td>\n",
       "      <td>False</td>\n",
       "    </tr>\n",
       "  </tbody>\n",
       "</table>\n",
       "</div>"
      ],
      "text/plain": [
       "  PassengerId HomePlanet CryoSleep  Cabin  Destination   Age    VIP  \\\n",
       "0     0001_01     Europa     False  B/0/P  TRAPPIST-1e  39.0  False   \n",
       "\n",
       "   RoomService  FoodCourt  ShoppingMall  Spa  VRDeck  Transported  \n",
       "0          0.0        0.0           0.0  0.0     0.0        False  "
      ]
     },
     "execution_count": 12,
     "metadata": {},
     "output_type": "execute_result"
    }
   ],
   "source": [
    "# Verify Name column has been dropped\n",
    "df.head(1)"
   ]
  },
  {
   "cell_type": "markdown",
   "id": "05c7711b",
   "metadata": {},
   "source": [
    "### Populate spending `NaN` values <a name='populate'></a>\n",
    "[Back to top](#top)"
   ]
  },
  {
   "cell_type": "code",
   "execution_count": 13,
   "id": "e7d337e0",
   "metadata": {
    "scrolled": true
   },
   "outputs": [],
   "source": [
    "# Populate with zeros any NaN value in columns 7-11 where CryoSleep == True\n",
    "df.iloc[condition, 7:12] = 0"
   ]
  },
  {
   "cell_type": "code",
   "execution_count": 14,
   "id": "cafe37f5",
   "metadata": {},
   "outputs": [
    {
     "data": {
      "text/html": [
       "<div>\n",
       "<style scoped>\n",
       "    .dataframe tbody tr th:only-of-type {\n",
       "        vertical-align: middle;\n",
       "    }\n",
       "\n",
       "    .dataframe tbody tr th {\n",
       "        vertical-align: top;\n",
       "    }\n",
       "\n",
       "    .dataframe thead th {\n",
       "        text-align: right;\n",
       "    }\n",
       "</style>\n",
       "<table border=\"1\" class=\"dataframe\">\n",
       "  <thead>\n",
       "    <tr style=\"text-align: right;\">\n",
       "      <th></th>\n",
       "      <th>PassengerId</th>\n",
       "      <th>HomePlanet</th>\n",
       "      <th>CryoSleep</th>\n",
       "      <th>Cabin</th>\n",
       "      <th>Destination</th>\n",
       "      <th>Age</th>\n",
       "      <th>VIP</th>\n",
       "      <th>RoomService</th>\n",
       "      <th>FoodCourt</th>\n",
       "      <th>ShoppingMall</th>\n",
       "      <th>Spa</th>\n",
       "      <th>VRDeck</th>\n",
       "      <th>Transported</th>\n",
       "    </tr>\n",
       "  </thead>\n",
       "  <tbody>\n",
       "    <tr>\n",
       "      <th>0</th>\n",
       "      <td>0001_01</td>\n",
       "      <td>Europa</td>\n",
       "      <td>False</td>\n",
       "      <td>B/0/P</td>\n",
       "      <td>TRAPPIST-1e</td>\n",
       "      <td>39.0</td>\n",
       "      <td>False</td>\n",
       "      <td>0.0</td>\n",
       "      <td>0.0</td>\n",
       "      <td>0.0</td>\n",
       "      <td>0.0</td>\n",
       "      <td>0.0</td>\n",
       "      <td>False</td>\n",
       "    </tr>\n",
       "  </tbody>\n",
       "</table>\n",
       "</div>"
      ],
      "text/plain": [
       "  PassengerId HomePlanet CryoSleep  Cabin  Destination   Age    VIP  \\\n",
       "0     0001_01     Europa     False  B/0/P  TRAPPIST-1e  39.0  False   \n",
       "\n",
       "   RoomService  FoodCourt  ShoppingMall  Spa  VRDeck  Transported  \n",
       "0          0.0        0.0           0.0  0.0     0.0        False  "
      ]
     },
     "execution_count": 14,
     "metadata": {},
     "output_type": "execute_result"
    }
   ],
   "source": [
    "# Verify NaN proliferation\n",
    "df.head(1)"
   ]
  },
  {
   "cell_type": "markdown",
   "id": "abb7cd5f",
   "metadata": {},
   "source": [
    "### Drop `NaN` rows <a name='drop'></a>\n",
    "[Back to top](#top)"
   ]
  },
  {
   "cell_type": "code",
   "execution_count": 15,
   "id": "71b1f8cb",
   "metadata": {},
   "outputs": [
    {
     "name": "stdout",
     "output_type": "stream",
     "text": [
      "Number of rows with missing data: 1621\n",
      "Number of rows retained: 7072\n",
      "Percent of data set retained: 81.3528126078454%\n"
     ]
    }
   ],
   "source": [
    "# Get a new count of the number of rows containing NaN values\n",
    "new_len = df.dropna(inplace=False).shape[0]\n",
    "\n",
    "print(f\"Number of rows with missing data: {original_len - new_len}\")\n",
    "print(f\"Number of rows retained: {new_len}\")\n",
    "print(f\"Percent of data set retained: {new_len/original_len*100}%\")"
   ]
  },
  {
   "cell_type": "markdown",
   "id": "5dbca1b3",
   "metadata": {},
   "source": [
    "By performing selective cleaning operations, we were able to save an additional 5% of our data set compared to just dropping all `NaN` outright. Utlimately, this will be enough data to work with, so we will not need to populate other values and we can safely drop the remaining `NaN` values at this point."
   ]
  },
  {
   "cell_type": "code",
   "execution_count": 16,
   "id": "7edc7b5f",
   "metadata": {},
   "outputs": [],
   "source": [
    "# Drop all rows containing NaN values\n",
    "df.dropna(inplace=True)"
   ]
  },
  {
   "cell_type": "code",
   "execution_count": 17,
   "id": "e4654751",
   "metadata": {},
   "outputs": [
    {
     "name": "stdout",
     "output_type": "stream",
     "text": [
      "Remaining data set length: 7072\n"
     ]
    }
   ],
   "source": [
    "# Verify that NaN rows have been dropped (expected: 7072)\n",
    "print(f\"Remaining data set length: {df.shape[0]}\")"
   ]
  },
  {
   "cell_type": "markdown",
   "id": "40f565d6",
   "metadata": {},
   "source": [
    "### Feature extraction <a name=\"extraction\"></a>\n",
    "[Back to top](#top)\n",
    "\n",
    "As mentioned previously, there are a few features that could be extracted. This is often helpful in reducing the dimensionality of the data set, boosting the signal to noise ratio. It can also help make trends more apparent, leading to better analyses and conclusions."
   ]
  },
  {
   "cell_type": "markdown",
   "id": "dba5a761",
   "metadata": {},
   "source": [
    "#### The `Deck` and `Side` features <a name=\"deck-side\"></a>\n",
    "[Back to top](#top)\n",
    "\n",
    "The data set contains a `Cabin` feature, which takes the following format: `deck/num/side`.\n",
    "\n",
    "It stands to reason maybe passengers on a particular deck or particular side were more impacted than others, so this may have important implications for survival. It also makes sense to split this data up to adhere to proper separation of concerns. That is to say that there are inherently three distinct categories of data contained in a single feature, so we can split them up. The `deck` and `side` portions can be extracted into their own features (`Deck` and `Side`, respectively). We won't need to keep `num` since that's just an identifier for the room, so after extraction we can drop the original `Cabin` column entirely."
   ]
  },
  {
   "cell_type": "code",
   "execution_count": 18,
   "id": "cd99e932",
   "metadata": {
    "scrolled": true
   },
   "outputs": [],
   "source": [
    "# Extract the Deck and Side features from the Cabin feature\n",
    "df['Deck'] = df['Cabin'].str[0]\n",
    "df['Side'] = df['Cabin'].str[-1]\n",
    "\n",
    "# Drop the original Cabin\n",
    "df = df.drop(['Cabin'], axis=1)"
   ]
  },
  {
   "cell_type": "code",
   "execution_count": 19,
   "id": "44ce75fb",
   "metadata": {
    "scrolled": true
   },
   "outputs": [
    {
     "data": {
      "text/html": [
       "<div>\n",
       "<style scoped>\n",
       "    .dataframe tbody tr th:only-of-type {\n",
       "        vertical-align: middle;\n",
       "    }\n",
       "\n",
       "    .dataframe tbody tr th {\n",
       "        vertical-align: top;\n",
       "    }\n",
       "\n",
       "    .dataframe thead th {\n",
       "        text-align: right;\n",
       "    }\n",
       "</style>\n",
       "<table border=\"1\" class=\"dataframe\">\n",
       "  <thead>\n",
       "    <tr style=\"text-align: right;\">\n",
       "      <th></th>\n",
       "      <th>PassengerId</th>\n",
       "      <th>HomePlanet</th>\n",
       "      <th>CryoSleep</th>\n",
       "      <th>Destination</th>\n",
       "      <th>Age</th>\n",
       "      <th>VIP</th>\n",
       "      <th>RoomService</th>\n",
       "      <th>FoodCourt</th>\n",
       "      <th>ShoppingMall</th>\n",
       "      <th>Spa</th>\n",
       "      <th>VRDeck</th>\n",
       "      <th>Transported</th>\n",
       "      <th>Deck</th>\n",
       "      <th>Side</th>\n",
       "    </tr>\n",
       "  </thead>\n",
       "  <tbody>\n",
       "    <tr>\n",
       "      <th>0</th>\n",
       "      <td>0001_01</td>\n",
       "      <td>Europa</td>\n",
       "      <td>False</td>\n",
       "      <td>TRAPPIST-1e</td>\n",
       "      <td>39.0</td>\n",
       "      <td>False</td>\n",
       "      <td>0.0</td>\n",
       "      <td>0.0</td>\n",
       "      <td>0.0</td>\n",
       "      <td>0.0</td>\n",
       "      <td>0.0</td>\n",
       "      <td>False</td>\n",
       "      <td>B</td>\n",
       "      <td>P</td>\n",
       "    </tr>\n",
       "  </tbody>\n",
       "</table>\n",
       "</div>"
      ],
      "text/plain": [
       "  PassengerId HomePlanet CryoSleep  Destination   Age    VIP  RoomService  \\\n",
       "0     0001_01     Europa     False  TRAPPIST-1e  39.0  False          0.0   \n",
       "\n",
       "   FoodCourt  ShoppingMall  Spa  VRDeck  Transported Deck Side  \n",
       "0        0.0           0.0  0.0     0.0        False    B    P  "
      ]
     },
     "execution_count": 19,
     "metadata": {},
     "output_type": "execute_result"
    }
   ],
   "source": [
    "# Show successful addition of the Deck and Side features\n",
    "df.head(1)"
   ]
  },
  {
   "cell_type": "markdown",
   "id": "1e7d7fb2",
   "metadata": {},
   "source": [
    "#### The `Group` feature <a name=\"group\"></a>\n",
    "[Back to top](#top)\n",
    "\n",
    "Furthermore, `PassengerId` is in the form `gggg_pp`, where `gggg` represents the passenger's group and `pp` represents their id within the group. As such, we can similarly extract a `Group` feature from the `PassengerId` feature. \n",
    "\n",
    "We can then drop the original `PassengerId` feature because the `pp` portion loses meaning without the group identifier and it would be unique to each passenger anyway, so it's not super userful to our analysis. That is to say, we don't expect a relationship between the passenger's uniqe ID and the other features, but their membership within a group may show some kind of relationship(s). We can just use the index as the *de facto* passenger ID instead."
   ]
  },
  {
   "cell_type": "code",
   "execution_count": 20,
   "id": "35edf939",
   "metadata": {},
   "outputs": [],
   "source": [
    "# Extract Group feature from PassengerId\n",
    "df['Group'] = df['PassengerId'].str.split('_').str[0]\n",
    "\n",
    "# Drop PassengerId\n",
    "df = df.drop(['PassengerId'], axis=1)"
   ]
  },
  {
   "cell_type": "code",
   "execution_count": 21,
   "id": "f01e3eb6",
   "metadata": {
    "scrolled": false
   },
   "outputs": [
    {
     "data": {
      "text/html": [
       "<div>\n",
       "<style scoped>\n",
       "    .dataframe tbody tr th:only-of-type {\n",
       "        vertical-align: middle;\n",
       "    }\n",
       "\n",
       "    .dataframe tbody tr th {\n",
       "        vertical-align: top;\n",
       "    }\n",
       "\n",
       "    .dataframe thead th {\n",
       "        text-align: right;\n",
       "    }\n",
       "</style>\n",
       "<table border=\"1\" class=\"dataframe\">\n",
       "  <thead>\n",
       "    <tr style=\"text-align: right;\">\n",
       "      <th></th>\n",
       "      <th>HomePlanet</th>\n",
       "      <th>CryoSleep</th>\n",
       "      <th>Destination</th>\n",
       "      <th>Age</th>\n",
       "      <th>VIP</th>\n",
       "      <th>RoomService</th>\n",
       "      <th>FoodCourt</th>\n",
       "      <th>ShoppingMall</th>\n",
       "      <th>Spa</th>\n",
       "      <th>VRDeck</th>\n",
       "      <th>Transported</th>\n",
       "      <th>Deck</th>\n",
       "      <th>Side</th>\n",
       "      <th>Group</th>\n",
       "    </tr>\n",
       "  </thead>\n",
       "  <tbody>\n",
       "    <tr>\n",
       "      <th>0</th>\n",
       "      <td>Europa</td>\n",
       "      <td>False</td>\n",
       "      <td>TRAPPIST-1e</td>\n",
       "      <td>39.0</td>\n",
       "      <td>False</td>\n",
       "      <td>0.0</td>\n",
       "      <td>0.0</td>\n",
       "      <td>0.0</td>\n",
       "      <td>0.0</td>\n",
       "      <td>0.0</td>\n",
       "      <td>False</td>\n",
       "      <td>B</td>\n",
       "      <td>P</td>\n",
       "      <td>0001</td>\n",
       "    </tr>\n",
       "  </tbody>\n",
       "</table>\n",
       "</div>"
      ],
      "text/plain": [
       "  HomePlanet CryoSleep  Destination   Age    VIP  RoomService  FoodCourt  \\\n",
       "0     Europa     False  TRAPPIST-1e  39.0  False          0.0        0.0   \n",
       "\n",
       "   ShoppingMall  Spa  VRDeck  Transported Deck Side Group  \n",
       "0           0.0  0.0     0.0        False    B    P  0001  "
      ]
     },
     "execution_count": 21,
     "metadata": {},
     "output_type": "execute_result"
    }
   ],
   "source": [
    "# Verify creation of Group and dropping of PassengerId\n",
    "df.head(1)"
   ]
  },
  {
   "cell_type": "markdown",
   "id": "2480fc74",
   "metadata": {},
   "source": [
    "### Data cleaning summary <a name='clean-summary'></a>\n",
    "[Back to top](#top)\n",
    "\n",
    "The data cleaning operations we've performed can be summarized as follows:\n",
    "- Removed `Name` column\n",
    "- Populated with zeros any `NaN` value in columns 7-11 where `CryoSleep == True`\n",
    "- Dropped all remaining rows containing `NaN` values\n",
    "\n",
    "Additionally, we created the `Group` feature from `PassengerId` and the `Deck` and `Side` features from `Cabin`."
   ]
  },
  {
   "cell_type": "markdown",
   "id": "5dfc79e4",
   "metadata": {},
   "source": [
    "# Data Wrangling and Aggregation <a name='wrangling'></a>\n",
    "[Back to top](#top)\n",
    "\n",
    "This section is where we will come up with questions and use code to determine which values correlate with one another. Below is a general outline for this section:\n",
    "\n",
    "\n",
    "## Part 1: General exploration\n",
    "- Data set balance \n",
    "- Categorical feature summary\n",
    "- The `VIP` feature\n",
    "- `Age` distribution\n",
    "- Part 1 summary\n",
    "\n",
    "\n",
    "## Part 2 : Find the properties that are associated with passenger suvival\n",
    "- Question 1: How is embarking from or traveling to a specific location associated with survival?\n",
    "- Question 2: Is passenger socioeconomic status related to survival?\n",
    "- Question 3: Is `CryoSleep` related to survival?\n",
    "- Question 4: Is location of cabin (`Deck`, `Side`) related to survival\n",
    "- Part 2 summary"
   ]
  },
  {
   "cell_type": "markdown",
   "id": "135775f7",
   "metadata": {},
   "source": [
    "## Part 1: General Exploration<a name='p1'></a>\n",
    "[Back to top](#top)\n",
    "\n",
    "It's often a good idea to explore the data set in a more general way, as previously hidden trends may start to reveal themselves. As such, before making assumptions about the data, we're going to performs some basic exploration."
   ]
  },
  {
   "cell_type": "markdown",
   "id": "864eb179",
   "metadata": {},
   "source": [
    "### Data set balance <a name='balance'></a>\n",
    "[Back to top](#top)\n",
    "\n",
    "Before moving further, we should make sure we have roughly equal numbers of passegners where `Transported == True` and passengers where `Transported == False`, to ensure the data set is roughly balanced after the cleaning process. This will ensure we have enough passengers in each category for the analaysis to be significant."
   ]
  },
  {
   "cell_type": "code",
   "execution_count": 22,
   "id": "e6c97c08",
   "metadata": {},
   "outputs": [
    {
     "name": "stdout",
     "output_type": "stream",
     "text": [
      "AxesSubplot(0.125,0.11;0.775x0.77)\n"
     ]
    },
    {
     "data": {
      "image/png": "[encoded data removed]",
      "text/plain": [
       "<Figure size 640x480 with 1 Axes>"
      ]
     },
     "metadata": {},
     "output_type": "display_data"
    }
   ],
   "source": [
    "# Plot counts\n",
    "plot = sns.countplot(x='Transported',data=df)\n",
    "\n",
    "# Set title\n",
    "plot.set(title=\"Count of Transported vs. Not Transported Passengers\")\n",
    "\n",
    "print(plot)"
   ]
  },
  {
   "cell_type": "markdown",
   "id": "6de5cdc3",
   "metadata": {},
   "source": [
    "We can see that while that data set does contain more passenger where `Tranported == True`, the data set is mostly even, so we're not too concerned about data imbalance."
   ]
  },
  {
   "cell_type": "markdown",
   "id": "c42de476",
   "metadata": {},
   "source": [
    "### Categorical feature summary <a name='cat-stats'></a>\n",
    "[Back to top](#top)\n",
    "\n",
    "Pandas contains various built-in methods to provide statistics for numerical data, but working with categorical data can be a bit more tedious. To start, we can plot counts for each categorical feature:"
   ]
  },
  {
   "cell_type": "code",
   "execution_count": 23,
   "id": "5e8e5b5c",
   "metadata": {
    "scrolled": false
   },
   "outputs": [
    {
     "data": {
      "image/png": "[encoded data removed]",
      "text/plain": [
       "<Figure size 1500x2000 with 6 Axes>"
      ]
     },
     "metadata": {},
     "output_type": "display_data"
    }
   ],
   "source": [
    "# Define a list of column names for which we will be creating pie charts\n",
    "columns = ['HomePlanet', 'CryoSleep', 'Destination',\n",
    "           'VIP', 'Deck','Side']\n",
    "\n",
    "# Determine the number of figures needed to display all columns\n",
    "num_figs = len(columns)\n",
    "num_cols_per_fig = 2\n",
    "num_rows_per_fig = num_figs // num_cols_per_fig\n",
    "\n",
    "# Create empty lists to store the figures and axes\n",
    "figs = []\n",
    "axes = []\n",
    "\n",
    "# Iterate over all the columns and create pie charts for each\n",
    "for i in range(num_figs):\n",
    "    # Check if we need to create a new figure\n",
    "    if i % (num_cols_per_fig * num_rows_per_fig) == 0:\n",
    "        fig, axs = plt.subplots(num_rows_per_fig, num_cols_per_fig, figsize=(15, 20))\n",
    "        figs.append(fig)\n",
    "        axes.append(axs)\n",
    "\n",
    "    # Calculate the indices of the current row and column in the grid of subplots\n",
    "    fig_index = i // (num_cols_per_fig * num_rows_per_fig)\n",
    "    row_index = (i - fig_index * num_cols_per_fig * num_rows_per_fig) // num_cols_per_fig\n",
    "    col_index = i % num_cols_per_fig\n",
    "\n",
    "    # Get the current axis object\n",
    "    axs = axes[fig_index]\n",
    "    ax = axs[row_index, col_index]\n",
    "\n",
    "    # Create a pie chart for the current column\n",
    "    data_counts = df[columns[i]].value_counts()\n",
    "    ax.pie(data_counts.values, labels=data_counts.index, autopct='%.2f%%')\n",
    "    ax.set_title(columns[i], y=1.05)"
   ]
  },
  {
   "cell_type": "markdown",
   "id": "1a753fd7",
   "metadata": {},
   "source": [
    "### The `VIP` feature <a name='vip'></a>\n",
    "[Back to top](#top)\n",
    "\n",
    "Based on the data above, we can see that the sample size for passengers where `VIP == True` may not be large enough for meaningful analysis. We can check by getting a more detailed count:"
   ]
  },
  {
   "cell_type": "code",
   "execution_count": 24,
   "id": "e9cdd0b7",
   "metadata": {
    "scrolled": true
   },
   "outputs": [
    {
     "data": {
      "text/plain": [
       "False    6905\n",
       "True      167\n",
       "Name: VIP, dtype: int64"
      ]
     },
     "execution_count": 24,
     "metadata": {},
     "output_type": "execute_result"
    }
   ],
   "source": [
    "# Get count of passengers' VIP status\n",
    "df['VIP'].value_counts()"
   ]
  },
  {
   "cell_type": "markdown",
   "id": "2fbfaf7c",
   "metadata": {},
   "source": [
    "Clearly, there are far too few VIP passengers to be significant. However, if a disproportionately large percentage of VIP passengers survived (or not), it may give us a clue as to the importance of socioeconomic status. We can double check with a survival rate plot:"
   ]
  },
  {
   "cell_type": "code",
   "execution_count": 25,
   "id": "b7286e64",
   "metadata": {
    "scrolled": false
   },
   "outputs": [
    {
     "name": "stdout",
     "output_type": "stream",
     "text": [
      "AxesSubplot(0.125,0.11;0.775x0.77)\n"
     ]
    },
    {
     "data": {
      "image/png": "[encoded data removed]",
      "text/plain": [
       "<Figure size 640x480 with 1 Axes>"
      ]
     },
     "metadata": {},
     "output_type": "display_data"
    }
   ],
   "source": [
    "# Calculate the survival rate for each VIP status\n",
    "survival_rates = df.groupby(['VIP']).mean()['Transported']\n",
    "\n",
    "# Create a bar chart showing the survival rates for each\n",
    "plot = sns.barplot(x=survival_rates.index, y=survival_rates.values)\n",
    "\n",
    "# Set the y-axis limit to 0.7 to better estimate data, add title and label\n",
    "plot.set(ylim=(0, 0.7), title=\"Survival Rate by VIP Status\", ylabel=\"Survival Rate\" )\n",
    "\n",
    "print(plot)"
   ]
  },
  {
   "cell_type": "markdown",
   "id": "e0921d62",
   "metadata": {},
   "source": [
    "If anything, the opposite trend appears: non-VIP passengers appear slightly more likely to survive. In either case, it appears we can safely drop the `VIP` feature:"
   ]
  },
  {
   "cell_type": "code",
   "execution_count": 26,
   "id": "59f807e6",
   "metadata": {},
   "outputs": [],
   "source": [
    "# Drop VIP column\n",
    "df.drop(['VIP'], axis=1, inplace=True)"
   ]
  },
  {
   "cell_type": "code",
   "execution_count": 27,
   "id": "ac6dcdde",
   "metadata": {},
   "outputs": [
    {
     "data": {
      "text/html": [
       "<div>\n",
       "<style scoped>\n",
       "    .dataframe tbody tr th:only-of-type {\n",
       "        vertical-align: middle;\n",
       "    }\n",
       "\n",
       "    .dataframe tbody tr th {\n",
       "        vertical-align: top;\n",
       "    }\n",
       "\n",
       "    .dataframe thead th {\n",
       "        text-align: right;\n",
       "    }\n",
       "</style>\n",
       "<table border=\"1\" class=\"dataframe\">\n",
       "  <thead>\n",
       "    <tr style=\"text-align: right;\">\n",
       "      <th></th>\n",
       "      <th>HomePlanet</th>\n",
       "      <th>CryoSleep</th>\n",
       "      <th>Destination</th>\n",
       "      <th>Age</th>\n",
       "      <th>RoomService</th>\n",
       "      <th>FoodCourt</th>\n",
       "      <th>ShoppingMall</th>\n",
       "      <th>Spa</th>\n",
       "      <th>VRDeck</th>\n",
       "      <th>Transported</th>\n",
       "      <th>Deck</th>\n",
       "      <th>Side</th>\n",
       "      <th>Group</th>\n",
       "    </tr>\n",
       "  </thead>\n",
       "  <tbody>\n",
       "    <tr>\n",
       "      <th>0</th>\n",
       "      <td>Europa</td>\n",
       "      <td>False</td>\n",
       "      <td>TRAPPIST-1e</td>\n",
       "      <td>39.0</td>\n",
       "      <td>0.0</td>\n",
       "      <td>0.0</td>\n",
       "      <td>0.0</td>\n",
       "      <td>0.0</td>\n",
       "      <td>0.0</td>\n",
       "      <td>False</td>\n",
       "      <td>B</td>\n",
       "      <td>P</td>\n",
       "      <td>0001</td>\n",
       "    </tr>\n",
       "  </tbody>\n",
       "</table>\n",
       "</div>"
      ],
      "text/plain": [
       "  HomePlanet CryoSleep  Destination   Age  RoomService  FoodCourt  \\\n",
       "0     Europa     False  TRAPPIST-1e  39.0          0.0        0.0   \n",
       "\n",
       "   ShoppingMall  Spa  VRDeck  Transported Deck Side Group  \n",
       "0           0.0  0.0     0.0        False    B    P  0001  "
      ]
     },
     "execution_count": 27,
     "metadata": {},
     "output_type": "execute_result"
    }
   ],
   "source": [
    "# Confirm VIP dropped\n",
    "df.head(1)"
   ]
  },
  {
   "cell_type": "markdown",
   "id": "c9b8e259",
   "metadata": {},
   "source": [
    "The sample sizes of the rest of the data set seem adequate for our purposes. While there are a few `Deck` values with small sample sizes, we will need to analyze feature specifically in more detail before deciding what to do with that data, which we will cover more in depth in Part 2 Question 4."
   ]
  },
  {
   "cell_type": "markdown",
   "id": "92982fb3",
   "metadata": {},
   "source": [
    "### `Age` distribution <a name='age-dist'></a>\n",
    "[Back to top](#top)\n",
    "\n",
    "Next, we can visualize the distribution of `Age`:"
   ]
  },
  {
   "cell_type": "code",
   "execution_count": 28,
   "id": "1247c7fa",
   "metadata": {
    "scrolled": false
   },
   "outputs": [
    {
     "data": {
      "image/png": "[encoded data removed]",
      "text/plain": [
       "<Figure size 640x480 with 1 Axes>"
      ]
     },
     "metadata": {},
     "output_type": "display_data"
    }
   ],
   "source": [
    "# extract the age variable from the dataset\n",
    "age = df['Age']\n",
    "\n",
    "# determine the appropriate number of bins for the histogram\n",
    "num_bins = 20\n",
    "\n",
    "# create the histogram using matplotlib's hist function\n",
    "plt.hist(age, bins=num_bins)\n",
    "\n",
    "# add labels and a title to the histogram\n",
    "plt.xlabel('Age')\n",
    "plt.ylabel('Frequency')\n",
    "plt.title('Distribution of Age among Titanic Passengers')\n",
    "\n",
    "# display the histogram\n",
    "plt.show()"
   ]
  },
  {
   "cell_type": "markdown",
   "id": "0bab15f4",
   "metadata": {},
   "source": [
    "The `Age` distribution is slightly right skewed, with most passengers falling in the 15-35 range. Interestingly, there is a suprisingly number of passenger whose `Age == 0`. If we were to perform analysis with regard to age, it would likely be worthwhile to categorize passengers into age groups.\n",
    "\n",
    "We've reseved exploration of the passenger spending data for Question 2 in the next section, where it is discussed more thoroughly."
   ]
  },
  {
   "cell_type": "markdown",
   "id": "d2c9fcb6",
   "metadata": {},
   "source": [
    "### Part 1 summary <a name='p1-summary'></a>\n",
    "[Back to top](#top)\n",
    "\n",
    "In this section, we determined the data set was balance with regard to `Transported`, so we can perform reasonably meaningful analysis on passenger survival. After looking at the distribution of categorical features, we determined there were too few passengers where `VIP == True`, so we dropeed that column. We were also better able to get an idea of the distribution of passenger age."
   ]
  },
  {
   "cell_type": "markdown",
   "id": "868ef91d",
   "metadata": {},
   "source": [
    "## Part 2: Find the properties associated with passenger suvival <a name='p2'></a>\n",
    "[Back to top](#top)\n",
    "\n",
    "The goal of the Kaggle competion is to use the data set to predict passenger survival. As such, the main avenue of exploration is passenger survival. Here, we will take a look at various factors that might influence whether or not the passenger was transported to another dimension."
   ]
  },
  {
   "cell_type": "markdown",
   "id": "83e36bca",
   "metadata": {},
   "source": [
    "### Question 1: How is embarking from or traveling to a specific location associated with survival? <a name='p2q1'></a>\n",
    "[Back to top](#top)\n",
    "\n",
    "First, we'll explore the number of unique HomePlanets and the number of passengers related to each:"
   ]
  },
  {
   "cell_type": "code",
   "execution_count": 29,
   "id": "cda39029",
   "metadata": {
    "scrolled": true
   },
   "outputs": [
    {
     "name": "stdout",
     "output_type": "stream",
     "text": [
      "HomePlanet\n",
      "Earth     3803\n",
      "Europa    1802\n",
      "Mars      1467\n",
      "dtype: int64\n"
     ]
    }
   ],
   "source": [
    "print(df.groupby('HomePlanet').size())"
   ]
  },
  {
   "cell_type": "markdown",
   "id": "ef48550d",
   "metadata": {},
   "source": [
    "There are three unqiue planets in the `HomePlanet` feature. We can see that about half of the passengers come from Earth while Europa and Mars have similar numbers of passengers.\n",
    "\n",
    "We can plot the survival rates for each of these:"
   ]
  },
  {
   "cell_type": "code",
   "execution_count": 30,
   "id": "a5e57e18",
   "metadata": {
    "scrolled": false
   },
   "outputs": [
    {
     "name": "stdout",
     "output_type": "stream",
     "text": [
      "AxesSubplot(0.125,0.11;0.775x0.77)\n"
     ]
    },
    {
     "data": {
      "image/png": "[encoded data removed]",
      "text/plain": [
       "<Figure size 640x480 with 1 Axes>"
      ]
     },
     "metadata": {},
     "output_type": "display_data"
    }
   ],
   "source": [
    "# Calculate the survival rate for each HomePlanet\n",
    "survival_rates = df.groupby(['HomePlanet']).mean()['Transported']\n",
    "\n",
    "# Create a bar chart showing the survival rates for each\n",
    "plot = sns.barplot(x=survival_rates.index, y=survival_rates.values)\n",
    "\n",
    "# Set the y-axis limit to 0.7 to better estimate data, add title and label\n",
    "plot.set(ylim=(0, 0.7), title=\"Survival Rate by Home Planet\", ylabel=\"Survival Rate\" )\n",
    "\n",
    "print(plot)"
   ]
  },
  {
   "cell_type": "markdown",
   "id": "5270ddb8",
   "metadata": {},
   "source": [
    "Clearly, passengers from Europa had the highest rates of survival at about 0.68 while Earth had the lowest at about 0.45. This indicates that there might be some link between `HomePlanet` and `Transported`.\n",
    "\n",
    "We can perform similar anaylsis on the `Destination` feature."
   ]
  },
  {
   "cell_type": "code",
   "execution_count": 31,
   "id": "97793a30",
   "metadata": {},
   "outputs": [
    {
     "name": "stdout",
     "output_type": "stream",
     "text": [
      "Destination\n",
      "55 Cancri e      1510\n",
      "PSO J318.5-22     676\n",
      "TRAPPIST-1e      4886\n",
      "dtype: int64\n"
     ]
    }
   ],
   "source": [
    "print(df.groupby('Destination').size())"
   ]
  },
  {
   "cell_type": "markdown",
   "id": "db16d2a9",
   "metadata": {},
   "source": [
    "There are three unqiue destination planets. We can see that the passengers are overwhelmingly traveling to TRAPPIST-1e, which is interesting.\n",
    "\n",
    "We can plot the survival rates for each of these planets:"
   ]
  },
  {
   "cell_type": "code",
   "execution_count": 32,
   "id": "75064c49",
   "metadata": {},
   "outputs": [
    {
     "name": "stdout",
     "output_type": "stream",
     "text": [
      "AxesSubplot(0.125,0.11;0.775x0.77)\n"
     ]
    },
    {
     "data": {
      "image/png": "[encoded data removed]",
      "text/plain": [
       "<Figure size 640x480 with 1 Axes>"
      ]
     },
     "metadata": {},
     "output_type": "display_data"
    }
   ],
   "source": [
    "# Calculate the survival rate for each Destination\n",
    "survival_rates = df.groupby(['Destination']).mean()['Transported']\n",
    "\n",
    "# Create a bar chart showing the survival rates for each\n",
    "plot = sns.barplot(x=survival_rates.index, y=survival_rates.values)\n",
    "\n",
    "# Set the y-axis limit to 0.7 to better estimate data, add title and label\n",
    "plot.set(ylim=(0, 0.7), title=\"Survival Rate by Destination\", ylabel=\"Survival Rate\")\n",
    "\n",
    "print(plot)"
   ]
  },
  {
   "cell_type": "markdown",
   "id": "2f6f76ea",
   "metadata": {},
   "source": [
    "Interestingly, TRAPPIST-1e has the lowest survival rate amongst the destinations and was also the most traveled to destination by far, so it seems like there may be some underlying trend there. That said, the range of survival rates is much smaller for `Destination` than it was for `HomePlanet`, so `Destination` may not be as strongly associated with survival as `HomePlanet`.\n",
    "\n",
    "As a sort of summary, we can plot the survival rates of `HomePlanet`/`Destination` combinations and see if there are any emergent trends."
   ]
  },
  {
   "cell_type": "code",
   "execution_count": 33,
   "id": "31bfb99e",
   "metadata": {},
   "outputs": [
    {
     "name": "stdout",
     "output_type": "stream",
     "text": [
      "AxesSubplot(0.125,0.11;0.775x0.77)\n"
     ]
    },
    {
     "data": {
      "image/png": "[encoded data removed]",
      "text/plain": [
       "<Figure size 640x480 with 1 Axes>"
      ]
     },
     "metadata": {},
     "output_type": "display_data"
    }
   ],
   "source": [
    "# Calculate the survival rate for each HomePlanet/Destination combo\n",
    "survival_rates = df.groupby(['HomePlanet', 'Destination']).mean()['Transported']\n",
    "\n",
    "# Reset the index to make HomePlanet and Destination into columns again (for plotting)\n",
    "survival_rates = survival_rates.reset_index()\n",
    "\n",
    "# Create a bar chart showing the survival rates for each combo\n",
    "plot = sns.barplot(x='HomePlanet', y='Transported', hue='Destination', data=survival_rates)\n",
    "\n",
    "# Add title and label\n",
    "plot.set(title=\"Survival Rate per Destination for Each Home Planet\", ylabel=\"Survival Rate\")\n",
    "\n",
    "# Display mean average on the graph\n",
    "averages = survival_rates.groupby('HomePlanet')['Transported'].mean()\n",
    "for i, avg in enumerate(averages):\n",
    "    plt.annotate(f\"Average: {avg:.2f}\", xy=(i, avg), ha='center', va='bottom')\n",
    "\n",
    "print(plot)"
   ]
  },
  {
   "cell_type": "markdown",
   "id": "d5295435",
   "metadata": {},
   "source": [
    "One striking trend displayed above is that nearly 80% passengers from Europa who were traveling to PSO J318.5-22 survived. On the flip side, just under 40% of passengers from Earth traveling to TRAPPIST-1e survived. Additionally, while the mean survival rate for Mars and Earth is roughly 50%, Europa's is much higher at 70%. \n",
    "\n",
    "As we indicated earlier, the `Destination` TRAPPIST-1e tends much lower than mean for Earth and Europa, but it's much closer to the average for Mars, where the other two destinations are much more distant from the mean."
   ]
  },
  {
   "cell_type": "markdown",
   "id": "11e2061d",
   "metadata": {},
   "source": [
    "#### Question 1 summary <a name='p2q1-summary'></a>\n",
    "[Back to top](#top)\n",
    "\n",
    "Question 1 asks \"How is embarking from or traveling to a specific location associated with survival?\"\n",
    "\n",
    "We found that the distribution shows that most passengers come from Earth and are headed to TRAPPIST-1e. Passengers from Earth have the lowest survival rate at about 0.44 while passengers from Europa have the highest at about 0.68, so `HomePlanet` appears to be slightly correlated with survival.\n",
    "\n",
    "On the flip side, `Destination` appears to be less strongly linked to survival. Passengers headed to TRAPPIST-1e and PSO J318.5-22 had survival rates of about 0.5 while 55 Cancri e has a rate of about 0.64. It's worth noting that the sample size for `Destination` is heavily skewed toward TRAPPIST-1e, and less than 8% of passengers were headed to PSO J318.5-22, so conclusions from this data may be of dubious significance. "
   ]
  },
  {
   "cell_type": "markdown",
   "id": "9ea029af",
   "metadata": {},
   "source": [
    "### Question 2: Is passenger socioeconomic status related to survival? <a name='p2q2'></a>\n",
    "[Back to top](#top)\n",
    "\n",
    "\n",
    "The data set contains some information we can use to approximate the socioeconomic status of passengers. There are various features that contain the amount spent at the amenities aboard the Spaceship Titanic: `RoomService`, `FoodCourt`, `ShoppingMall`, `Spa`, `VRDeck`. Together, these represent a sort of proxy for socioeconomic status. As such, we can use them to divide the passengers up by their presumed socioeconomic class. To do so, we'll create three categores, lower, middle, and upper to represent the socioeconomic status of passengers, and we'll need to determine thresholds of spending for these classes."
   ]
  },
  {
   "cell_type": "markdown",
   "id": "7b4fcc1c",
   "metadata": {},
   "source": [
    "#### The `TotalSpent` feature <a name='spent'></a>\n",
    "[Back to top](#top)\n",
    "\n",
    "Before dividing passengers into classes, however, we can comine the spending features into a single feature, `TotalSpent`, representing the passengers spending across all amenities. Afterward, we can drop the original columns. This will not only reduce dimensionality, but analayzing spending at individual amenities as they relate to survival is outside the scope of this project. "
   ]
  },
  {
   "cell_type": "code",
   "execution_count": 34,
   "id": "a42153e2",
   "metadata": {},
   "outputs": [],
   "source": [
    "# Create TotalSpent as a sum of the amenities columns\n",
    "df['TotalSpent'] = df['RoomService'] + df['FoodCourt'] + df['ShoppingMall'] + df['Spa'] + df['VRDeck']\n",
    "\n",
    "# Drop amenities columns\n",
    "df.drop(['RoomService', 'FoodCourt', 'ShoppingMall', 'Spa', 'VRDeck'], axis=1, inplace=True)"
   ]
  },
  {
   "cell_type": "code",
   "execution_count": 35,
   "id": "74af2958",
   "metadata": {},
   "outputs": [
    {
     "data": {
      "text/html": [
       "<div>\n",
       "<style scoped>\n",
       "    .dataframe tbody tr th:only-of-type {\n",
       "        vertical-align: middle;\n",
       "    }\n",
       "\n",
       "    .dataframe tbody tr th {\n",
       "        vertical-align: top;\n",
       "    }\n",
       "\n",
       "    .dataframe thead th {\n",
       "        text-align: right;\n",
       "    }\n",
       "</style>\n",
       "<table border=\"1\" class=\"dataframe\">\n",
       "  <thead>\n",
       "    <tr style=\"text-align: right;\">\n",
       "      <th></th>\n",
       "      <th>HomePlanet</th>\n",
       "      <th>CryoSleep</th>\n",
       "      <th>Destination</th>\n",
       "      <th>Age</th>\n",
       "      <th>Transported</th>\n",
       "      <th>Deck</th>\n",
       "      <th>Side</th>\n",
       "      <th>Group</th>\n",
       "      <th>TotalSpent</th>\n",
       "    </tr>\n",
       "  </thead>\n",
       "  <tbody>\n",
       "    <tr>\n",
       "      <th>0</th>\n",
       "      <td>Europa</td>\n",
       "      <td>False</td>\n",
       "      <td>TRAPPIST-1e</td>\n",
       "      <td>39.0</td>\n",
       "      <td>False</td>\n",
       "      <td>B</td>\n",
       "      <td>P</td>\n",
       "      <td>0001</td>\n",
       "      <td>0.0</td>\n",
       "    </tr>\n",
       "    <tr>\n",
       "      <th>1</th>\n",
       "      <td>Earth</td>\n",
       "      <td>False</td>\n",
       "      <td>TRAPPIST-1e</td>\n",
       "      <td>24.0</td>\n",
       "      <td>True</td>\n",
       "      <td>F</td>\n",
       "      <td>S</td>\n",
       "      <td>0002</td>\n",
       "      <td>736.0</td>\n",
       "    </tr>\n",
       "  </tbody>\n",
       "</table>\n",
       "</div>"
      ],
      "text/plain": [
       "  HomePlanet CryoSleep  Destination   Age  Transported Deck Side Group  \\\n",
       "0     Europa     False  TRAPPIST-1e  39.0        False    B    P  0001   \n",
       "1      Earth     False  TRAPPIST-1e  24.0         True    F    S  0002   \n",
       "\n",
       "   TotalSpent  \n",
       "0         0.0  \n",
       "1       736.0  "
      ]
     },
     "execution_count": 35,
     "metadata": {},
     "output_type": "execute_result"
    }
   ],
   "source": [
    "# Verify creation of TotalSpent and dropping of amenities columns\n",
    "df.head(2)"
   ]
  },
  {
   "cell_type": "markdown",
   "id": "1426ece1",
   "metadata": {},
   "source": [
    "Next, we'll use quantiles to differentiate passengers according to their total spending on amenities, as indicated by the newly-created `TotalSpent` feature. Importantly, passengers in CryoSleep would not be able to spend money at amenities, so they need to be excluded from this analysis first before going further. We'll create a subset of the data containing only passengers not in CryoSleep for this part:"
   ]
  },
  {
   "cell_type": "code",
   "execution_count": 36,
   "id": "9b604d0d",
   "metadata": {
    "scrolled": false
   },
   "outputs": [
    {
     "name": "stdout",
     "output_type": "stream",
     "text": [
      "Number of passengers not in CryoSleep: 4384\n"
     ]
    },
    {
     "data": {
      "text/html": [
       "<div>\n",
       "<style scoped>\n",
       "    .dataframe tbody tr th:only-of-type {\n",
       "        vertical-align: middle;\n",
       "    }\n",
       "\n",
       "    .dataframe tbody tr th {\n",
       "        vertical-align: top;\n",
       "    }\n",
       "\n",
       "    .dataframe thead th {\n",
       "        text-align: right;\n",
       "    }\n",
       "</style>\n",
       "<table border=\"1\" class=\"dataframe\">\n",
       "  <thead>\n",
       "    <tr style=\"text-align: right;\">\n",
       "      <th></th>\n",
       "      <th>HomePlanet</th>\n",
       "      <th>CryoSleep</th>\n",
       "      <th>Destination</th>\n",
       "      <th>Age</th>\n",
       "      <th>Transported</th>\n",
       "      <th>Deck</th>\n",
       "      <th>Side</th>\n",
       "      <th>Group</th>\n",
       "      <th>TotalSpent</th>\n",
       "    </tr>\n",
       "  </thead>\n",
       "  <tbody>\n",
       "    <tr>\n",
       "      <th>0</th>\n",
       "      <td>Europa</td>\n",
       "      <td>False</td>\n",
       "      <td>TRAPPIST-1e</td>\n",
       "      <td>39.0</td>\n",
       "      <td>False</td>\n",
       "      <td>B</td>\n",
       "      <td>P</td>\n",
       "      <td>0001</td>\n",
       "      <td>0.0</td>\n",
       "    </tr>\n",
       "  </tbody>\n",
       "</table>\n",
       "</div>"
      ],
      "text/plain": [
       "  HomePlanet CryoSleep  Destination   Age  Transported Deck Side Group  \\\n",
       "0     Europa     False  TRAPPIST-1e  39.0        False    B    P  0001   \n",
       "\n",
       "   TotalSpent  \n",
       "0         0.0  "
      ]
     },
     "execution_count": 36,
     "metadata": {},
     "output_type": "execute_result"
    }
   ],
   "source": [
    "# Get a subset of the data containing only passengers not in CryoSleep\n",
    "awake = df[df['CryoSleep'] == False].copy()\n",
    "print(f\"Number of passengers not in CryoSleep: {awake.shape[0]}\")\n",
    "awake.head(1)"
   ]
  },
  {
   "cell_type": "markdown",
   "id": "d4752e50",
   "metadata": {},
   "source": [
    "To get an overview, we can create a histogram of passenger spending:"
   ]
  },
  {
   "cell_type": "code",
   "execution_count": 37,
   "id": "26c67760",
   "metadata": {},
   "outputs": [
    {
     "data": {
      "text/plain": [
       "<AxesSubplot: xlabel='TotalSpent', ylabel='Count'>"
      ]
     },
     "execution_count": 37,
     "metadata": {},
     "output_type": "execute_result"
    },
    {
     "data": {
      "image/png": "[encoded data removed]",
      "text/plain": [
       "<Figure size 640x480 with 1 Axes>"
      ]
     },
     "metadata": {},
     "output_type": "display_data"
    }
   ],
   "source": [
    "# Plot histogram of passenger spending\n",
    "sns.histplot(awake['TotalSpent'])"
   ]
  },
  {
   "cell_type": "markdown",
   "id": "a90ee772",
   "metadata": {},
   "source": [
    "It appears that most passengers spend less than about 2,500, but there are still quite a few that spend a bit more (and a few that spend quite a bit more). Let's get more detail using df.describe():"
   ]
  },
  {
   "cell_type": "code",
   "execution_count": 38,
   "id": "d7a48bc9",
   "metadata": {
    "scrolled": false
   },
   "outputs": [
    {
     "data": {
      "text/plain": [
       "count     4384.000000\n",
       "mean      2319.061131\n",
       "std       3294.501584\n",
       "min          0.000000\n",
       "25%        761.750000\n",
       "50%       1051.000000\n",
       "75%       2507.750000\n",
       "max      35987.000000\n",
       "Name: TotalSpent, dtype: float64"
      ]
     },
     "execution_count": 38,
     "metadata": {},
     "output_type": "execute_result"
    }
   ],
   "source": [
    "awake['TotalSpent'].describe()"
   ]
  },
  {
   "cell_type": "markdown",
   "id": "b2f74acd",
   "metadata": {},
   "source": [
    "We can see from the table above that 50th percentile is still a bit far from the feature's mean, but it does jump up quite a bit by the 75th percentile. Even still, the presence of large outliers is apparent, as the maximum value is orders of magnitude higher than the mean. Let's see what the data looks like without the top 10% of spenders:"
   ]
  },
  {
   "cell_type": "code",
   "execution_count": 39,
   "id": "ca6f920f",
   "metadata": {
    "scrolled": false
   },
   "outputs": [
    {
     "data": {
      "text/html": [
       "<div>\n",
       "<style scoped>\n",
       "    .dataframe tbody tr th:only-of-type {\n",
       "        vertical-align: middle;\n",
       "    }\n",
       "\n",
       "    .dataframe tbody tr th {\n",
       "        vertical-align: top;\n",
       "    }\n",
       "\n",
       "    .dataframe thead th {\n",
       "        text-align: right;\n",
       "    }\n",
       "</style>\n",
       "<table border=\"1\" class=\"dataframe\">\n",
       "  <thead>\n",
       "    <tr style=\"text-align: right;\">\n",
       "      <th></th>\n",
       "      <th>Age</th>\n",
       "      <th>TotalSpent</th>\n",
       "    </tr>\n",
       "  </thead>\n",
       "  <tbody>\n",
       "    <tr>\n",
       "      <th>count</th>\n",
       "      <td>3945.000000</td>\n",
       "      <td>3945.000000</td>\n",
       "    </tr>\n",
       "    <tr>\n",
       "      <th>mean</th>\n",
       "      <td>29.094550</td>\n",
       "      <td>1439.632446</td>\n",
       "    </tr>\n",
       "    <tr>\n",
       "      <th>std</th>\n",
       "      <td>14.161895</td>\n",
       "      <td>1226.483888</td>\n",
       "    </tr>\n",
       "    <tr>\n",
       "      <th>min</th>\n",
       "      <td>0.000000</td>\n",
       "      <td>0.000000</td>\n",
       "    </tr>\n",
       "    <tr>\n",
       "      <th>25%</th>\n",
       "      <td>20.000000</td>\n",
       "      <td>738.000000</td>\n",
       "    </tr>\n",
       "    <tr>\n",
       "      <th>50%</th>\n",
       "      <td>27.000000</td>\n",
       "      <td>923.000000</td>\n",
       "    </tr>\n",
       "    <tr>\n",
       "      <th>75%</th>\n",
       "      <td>38.000000</td>\n",
       "      <td>1822.000000</td>\n",
       "    </tr>\n",
       "    <tr>\n",
       "      <th>max</th>\n",
       "      <td>79.000000</td>\n",
       "      <td>5746.000000</td>\n",
       "    </tr>\n",
       "  </tbody>\n",
       "</table>\n",
       "</div>"
      ],
      "text/plain": [
       "               Age   TotalSpent\n",
       "count  3945.000000  3945.000000\n",
       "mean     29.094550  1439.632446\n",
       "std      14.161895  1226.483888\n",
       "min       0.000000     0.000000\n",
       "25%      20.000000   738.000000\n",
       "50%      27.000000   923.000000\n",
       "75%      38.000000  1822.000000\n",
       "max      79.000000  5746.000000"
      ]
     },
     "execution_count": 39,
     "metadata": {},
     "output_type": "execute_result"
    }
   ],
   "source": [
    "# Exclude the top 10% of spenders\n",
    "subset = awake.where(awake['TotalSpent'] < awake['TotalSpent'].quantile(0.90))\n",
    "subset.describe()"
   ]
  },
  {
   "cell_type": "markdown",
   "id": "3330f1c0",
   "metadata": {},
   "source": [
    "#### The `Class` feature <a name='class'></a>\n",
    "[Back to top](#top)\n",
    "\n",
    "From the table above, we can see that the mean changes dramatically, but the individual quartiles change less so. As such, we can ignore the effect of the outliers and use approximate values at the 25th and 75th percentiles as out class thresholds:\n",
    "- Lower class: `TotalSpent <= 800`\n",
    "- Middle class:  `800 < TotalSpent < 2500`\n",
    "- Upper class: `TotalSpent >= 2500`\n",
    "\n",
    "We can now use these to make a new feature called `Class`:"
   ]
  },
  {
   "cell_type": "code",
   "execution_count": 40,
   "id": "a0d926a0",
   "metadata": {},
   "outputs": [],
   "source": [
    "# Define the conditions and class labels\n",
    "conditions = [\n",
    "    awake['TotalSpent'] <= 800,\n",
    "    (awake['TotalSpent'] > 800) & (awake['TotalSpent'] < 2500),\n",
    "    awake['TotalSpent'] >= 2500\n",
    "]\n",
    "class_labels = ['Lower', 'Middle', 'Upper']\n",
    "\n",
    "# Create a new column 'Class' based on the conditions and labels\n",
    "awake['Class'] = np.select(conditions, class_labels, default='Unknown')"
   ]
  },
  {
   "cell_type": "code",
   "execution_count": 41,
   "id": "35e80563",
   "metadata": {},
   "outputs": [
    {
     "data": {
      "text/html": [
       "<div>\n",
       "<style scoped>\n",
       "    .dataframe tbody tr th:only-of-type {\n",
       "        vertical-align: middle;\n",
       "    }\n",
       "\n",
       "    .dataframe tbody tr th {\n",
       "        vertical-align: top;\n",
       "    }\n",
       "\n",
       "    .dataframe thead th {\n",
       "        text-align: right;\n",
       "    }\n",
       "</style>\n",
       "<table border=\"1\" class=\"dataframe\">\n",
       "  <thead>\n",
       "    <tr style=\"text-align: right;\">\n",
       "      <th></th>\n",
       "      <th>HomePlanet</th>\n",
       "      <th>CryoSleep</th>\n",
       "      <th>Destination</th>\n",
       "      <th>Age</th>\n",
       "      <th>Transported</th>\n",
       "      <th>Deck</th>\n",
       "      <th>Side</th>\n",
       "      <th>Group</th>\n",
       "      <th>TotalSpent</th>\n",
       "      <th>Class</th>\n",
       "    </tr>\n",
       "  </thead>\n",
       "  <tbody>\n",
       "    <tr>\n",
       "      <th>0</th>\n",
       "      <td>Europa</td>\n",
       "      <td>False</td>\n",
       "      <td>TRAPPIST-1e</td>\n",
       "      <td>39.0</td>\n",
       "      <td>False</td>\n",
       "      <td>B</td>\n",
       "      <td>P</td>\n",
       "      <td>0001</td>\n",
       "      <td>0.0</td>\n",
       "      <td>Lower</td>\n",
       "    </tr>\n",
       "    <tr>\n",
       "      <th>1</th>\n",
       "      <td>Earth</td>\n",
       "      <td>False</td>\n",
       "      <td>TRAPPIST-1e</td>\n",
       "      <td>24.0</td>\n",
       "      <td>True</td>\n",
       "      <td>F</td>\n",
       "      <td>S</td>\n",
       "      <td>0002</td>\n",
       "      <td>736.0</td>\n",
       "      <td>Lower</td>\n",
       "    </tr>\n",
       "    <tr>\n",
       "      <th>2</th>\n",
       "      <td>Europa</td>\n",
       "      <td>False</td>\n",
       "      <td>TRAPPIST-1e</td>\n",
       "      <td>58.0</td>\n",
       "      <td>False</td>\n",
       "      <td>A</td>\n",
       "      <td>S</td>\n",
       "      <td>0003</td>\n",
       "      <td>10383.0</td>\n",
       "      <td>Upper</td>\n",
       "    </tr>\n",
       "    <tr>\n",
       "      <th>3</th>\n",
       "      <td>Europa</td>\n",
       "      <td>False</td>\n",
       "      <td>TRAPPIST-1e</td>\n",
       "      <td>33.0</td>\n",
       "      <td>False</td>\n",
       "      <td>A</td>\n",
       "      <td>S</td>\n",
       "      <td>0003</td>\n",
       "      <td>5176.0</td>\n",
       "      <td>Upper</td>\n",
       "    </tr>\n",
       "    <tr>\n",
       "      <th>4</th>\n",
       "      <td>Earth</td>\n",
       "      <td>False</td>\n",
       "      <td>TRAPPIST-1e</td>\n",
       "      <td>16.0</td>\n",
       "      <td>True</td>\n",
       "      <td>F</td>\n",
       "      <td>S</td>\n",
       "      <td>0004</td>\n",
       "      <td>1091.0</td>\n",
       "      <td>Middle</td>\n",
       "    </tr>\n",
       "  </tbody>\n",
       "</table>\n",
       "</div>"
      ],
      "text/plain": [
       "  HomePlanet CryoSleep  Destination   Age  Transported Deck Side Group  \\\n",
       "0     Europa     False  TRAPPIST-1e  39.0        False    B    P  0001   \n",
       "1      Earth     False  TRAPPIST-1e  24.0         True    F    S  0002   \n",
       "2     Europa     False  TRAPPIST-1e  58.0        False    A    S  0003   \n",
       "3     Europa     False  TRAPPIST-1e  33.0        False    A    S  0003   \n",
       "4      Earth     False  TRAPPIST-1e  16.0         True    F    S  0004   \n",
       "\n",
       "   TotalSpent   Class  \n",
       "0         0.0   Lower  \n",
       "1       736.0   Lower  \n",
       "2     10383.0   Upper  \n",
       "3      5176.0   Upper  \n",
       "4      1091.0  Middle  "
      ]
     },
     "execution_count": 41,
     "metadata": {},
     "output_type": "execute_result"
    }
   ],
   "source": [
    "# Verify Class was created\n",
    "awake.head()"
   ]
  },
  {
   "cell_type": "code",
   "execution_count": 42,
   "id": "21219020",
   "metadata": {
    "scrolled": true
   },
   "outputs": [
    {
     "data": {
      "text/plain": [
       "Middle    1928\n",
       "Lower     1356\n",
       "Upper     1100\n",
       "Name: Class, dtype: int64"
      ]
     },
     "execution_count": 42,
     "metadata": {},
     "output_type": "execute_result"
    }
   ],
   "source": [
    "# Get the number of passengers in each class\n",
    "awake['Class'].value_counts()"
   ]
  },
  {
   "cell_type": "code",
   "execution_count": 43,
   "id": "f0a981e9",
   "metadata": {},
   "outputs": [
    {
     "name": "stdout",
     "output_type": "stream",
     "text": [
      "AxesSubplot(0.125,0.11;0.775x0.77)\n"
     ]
    },
    {
     "data": {
      "image/png": "[encoded data removed]",
      "text/plain": [
       "<Figure size 640x480 with 1 Axes>"
      ]
     },
     "metadata": {},
     "output_type": "display_data"
    }
   ],
   "source": [
    "# Calculate the survival rate for each Class\n",
    "survival_rates = awake.groupby(['Class'])['Transported'].mean()\n",
    "\n",
    "# Create a bar chart showing the survival rates for each\n",
    "plot = sns.barplot(x=survival_rates.index, y=survival_rates.values)\n",
    "\n",
    "# Set the y-axis limit to 0.7 to better estimate data, add title and label\n",
    "plot.set(title=\"Survival Rate by Class\", ylabel=\"Survival Rate\")\n",
    "\n",
    "print(plot)"
   ]
  },
  {
   "cell_type": "markdown",
   "id": "4f557989",
   "metadata": {},
   "source": [
    "Interestingly, it appears that all three classes have a survival rate roughly between 0.3 and 0.4. The initial expectation was that higher socioeconomic status would be associated with higher survival, but that doesn't appear to be the case."
   ]
  },
  {
   "cell_type": "markdown",
   "id": "c292e0b7",
   "metadata": {},
   "source": [
    "#### Question 2 summary  <a name='p2q2-summary'></a>\n",
    "[Back to top](#top)\n",
    "\n",
    "Question 2 asks \"Is passenger socioeconomic status related to survival?\" The data set provides a few features we can use to estimate the socioeconomic status of passengers. After combining the amenities spending into a single feature called `TotalSpent`, a `Class` feature was created containing the approximate socioeconomic class of the passenger. \n",
    "\n",
    "Ultimately, socioeconomic status does not track closely with passenger surivival. Based on the information above, it appears that passenger spending is not a strong predictor of passenger survival. However, this analysis could necessarily only be performed on passenger not in CryoSleep"
   ]
  },
  {
   "cell_type": "markdown",
   "id": "7f882cd2",
   "metadata": {},
   "source": [
    "### Question 3: Is CryoSleep related to survival?  <a name='p2q3'></a>\n",
    "\n",
    "[Back to top](#top)\n",
    "\n",
    "Next, we will explore the effect of another important feature on survival: `CryoSleep`. As mentioned previously, `CryoSleep` is a boolean indicating whether or not the passenger elected to be frozen for the duration of the trip. This is a unique feature in general, but it's nature also means its effect on survival is hard to hypothesize. Naturally, this is definitely the type of feature worth exploring. \n",
    "\n",
    "We'll start by getting a basic count:"
   ]
  },
  {
   "cell_type": "code",
   "execution_count": 44,
   "id": "fb874b43",
   "metadata": {
    "scrolled": false
   },
   "outputs": [
    {
     "data": {
      "text/plain": [
       "False    4384\n",
       "True     2688\n",
       "Name: CryoSleep, dtype: int64"
      ]
     },
     "execution_count": 44,
     "metadata": {},
     "output_type": "execute_result"
    }
   ],
   "source": [
    "df['CryoSleep'].value_counts()"
   ]
  },
  {
   "cell_type": "markdown",
   "id": "3ec48a30",
   "metadata": {},
   "source": [
    "Given this infromation, it appears there may be enough passengers where `CryoSleep == True` to perform some meaningful analysis. We can check the survival rates for each group:"
   ]
  },
  {
   "cell_type": "code",
   "execution_count": 45,
   "id": "270a29a6",
   "metadata": {
    "scrolled": false
   },
   "outputs": [
    {
     "name": "stdout",
     "output_type": "stream",
     "text": [
      "AxesSubplot(0.125,0.11;0.775x0.77)\n"
     ]
    },
    {
     "data": {
      "image/png": "[encoded data removed]",
      "text/plain": [
       "<Figure size 640x480 with 1 Axes>"
      ]
     },
     "metadata": {},
     "output_type": "display_data"
    }
   ],
   "source": [
    "# Calculate the survival rate for each CryoSleep status\n",
    "survival_rates = df.groupby(['CryoSleep'])['Transported'].mean()\n",
    "\n",
    "# Create a bar chart showing the survival rates for each\n",
    "plot = sns.barplot(x=survival_rates.index, y=survival_rates.values)\n",
    "\n",
    "# Set the y-axis limit to 0.7 to better estimate data, add title and label\n",
    "plot.set(title=\"Survival Rate by CryoSleep Status\", ylabel=\"Survival Rate\")\n",
    "\n",
    "print(plot)"
   ]
  },
  {
   "cell_type": "markdown",
   "id": "04ed4da4",
   "metadata": {},
   "source": [
    "The graph above shows that about 80% of `CryoSleep` passengers survived while only about 35% of passenger not in `CryoSleep` survived."
   ]
  },
  {
   "cell_type": "markdown",
   "id": "f06b86f7",
   "metadata": {},
   "source": [
    "#### Question 3 Summary  <a name='p2q3-summary'></a>\n",
    "\n",
    "[Back to top](#top)\n",
    "\n",
    "Question 3 asks \"Is `CryoSleep` related to survival?\" Of the 7,072 passengers in the dat set, 2,688 f them were in `CryoSleep` (about 30% of the data set). Clearly, the difference in survival rates between these two categories is quite dramatic. Roughly four out five passengers in `CryoSleep` survived while only about 35% of passengers not in `CryoSleep` survived. As such, it appears that `CryoSleep` is likely a good predictor of passenger survival."
   ]
  },
  {
   "cell_type": "markdown",
   "id": "e43b1125",
   "metadata": {},
   "source": [
    "### Question 4: Is location of cabin (`Deck`, `Side`) related to survival?  <a name='p2q4'></a>\n",
    "\n",
    "[Back to top](#top)\n",
    "\n",
    "Curiously, the point at which the anomaly came into contact with the Space Titanic wasn't reported. Assuming that proximity to the anomaly meant a higher chance of being Transported, by answering this question we not only gain insight into the location of impact but also can determine whether passengers on a certain Side or a specific Deck were more likely to be Transported than others.\n",
    "\n",
    "Let's start by determining if passengers on a certain side of the ship were more likely to be Transported. We'll first get a count of the passengers on each side."
   ]
  },
  {
   "cell_type": "code",
   "execution_count": 46,
   "id": "f70592e0",
   "metadata": {},
   "outputs": [
    {
     "data": {
      "text/plain": [
       "S    3576\n",
       "P    3496\n",
       "Name: Side, dtype: int64"
      ]
     },
     "execution_count": 46,
     "metadata": {},
     "output_type": "execute_result"
    }
   ],
   "source": [
    "df['Side'].value_counts()"
   ]
  },
  {
   "cell_type": "markdown",
   "id": "1ae0d2fe",
   "metadata": {},
   "source": [
    "As expected there are roughly the same amount of passengers on each side of the ship. This works to our advantage since the data would be skewed if there was a larger difference in these values, though the difference should be noted nonetheless."
   ]
  },
  {
   "cell_type": "code",
   "execution_count": 54,
   "id": "41f4aa32",
   "metadata": {},
   "outputs": [
    {
     "name": "stdout",
     "output_type": "stream",
     "text": [
      "AxesSubplot(0.125,0.11;0.775x0.77)\n"
     ]
    },
    {
     "data": {
      "image/png": "[encoded data removed]",
      "text/plain": [
       "<Figure size 640x480 with 1 Axes>"
      ]
     },
     "metadata": {},
     "output_type": "display_data"
    }
   ],
   "source": [
    "# Calculate the survival rate for each Side of the Ship\n",
    "survival_rates = df.groupby(['Side'])['Transported'].mean()\n",
    "\n",
    "# Create a bar chart showing the survival rates for each\n",
    "plot = sns.barplot(x=survival_rates.index, y=survival_rates.values)\n",
    "\n",
    "# Add title and label y-axis\n",
    "plot.set(ylim=(0, 0.6), title=\"Survival Rate by Side\", ylabel=\"Survival Rate\")\n",
    "\n",
    "print(plot)"
   ]
  },
  {
   "cell_type": "markdown",
   "id": "d68fcb09",
   "metadata": {},
   "source": [
    "Based on our results, it appears that passengers on the Port Side were slightly more likely to be transported than those on the Starboard Side of the ship.\n",
    "\n",
    "Now let's find if certain a certain Deck was more affected than the others."
   ]
  },
  {
   "cell_type": "code",
   "execution_count": 48,
   "id": "e71e9ef7",
   "metadata": {},
   "outputs": [
    {
     "data": {
      "text/plain": [
       "F    2265\n",
       "G    2161\n",
       "E     716\n",
       "B     688\n",
       "C     627\n",
       "D     395\n",
       "A     217\n",
       "T       3\n",
       "Name: Deck, dtype: int64"
      ]
     },
     "execution_count": 48,
     "metadata": {},
     "output_type": "execute_result"
    }
   ],
   "source": [
    "df['Deck'].value_counts()"
   ]
  },
  {
   "cell_type": "markdown",
   "id": "f8c5b3fe",
   "metadata": {},
   "source": [
    "Unfortunately, there is a much greater variation in passenger numbers between Decks than there were for the Sides."
   ]
  },
  {
   "cell_type": "code",
   "execution_count": 57,
   "id": "d2f209df",
   "metadata": {
    "scrolled": true
   },
   "outputs": [
    {
     "data": {
      "text/plain": [
       "count       8.000000\n",
       "mean      884.000000\n",
       "std       856.133334\n",
       "min         3.000000\n",
       "25%       350.500000\n",
       "50%       657.500000\n",
       "75%      1077.250000\n",
       "max      2265.000000\n",
       "Name: Deck, dtype: float64"
      ]
     },
     "execution_count": 57,
     "metadata": {},
     "output_type": "execute_result"
    }
   ],
   "source": [
    "df['Deck'].value_counts().describe()"
   ]
  },
  {
   "cell_type": "markdown",
   "id": "edeb9135",
   "metadata": {},
   "source": [
    "Regardless we can still plot the data and see if a pattern appears:"
   ]
  },
  {
   "cell_type": "code",
   "execution_count": 58,
   "id": "65b26939",
   "metadata": {
    "scrolled": false
   },
   "outputs": [
    {
     "name": "stdout",
     "output_type": "stream",
     "text": [
      "AxesSubplot(0.125,0.11;0.775x0.77)\n"
     ]
    },
    {
     "data": {
      "image/png": "[encoded data removed]",
      "text/plain": [
       "<Figure size 640x480 with 1 Axes>"
      ]
     },
     "metadata": {},
     "output_type": "display_data"
    }
   ],
   "source": [
    "# Calculate the survival rate for each Deck\n",
    "survival_rates = df.groupby(['Deck'])['Transported'].mean()\n",
    "\n",
    "# Create a bar chart showing the survival rates for each\n",
    "plot = sns.barplot(x=survival_rates.index, y=survival_rates.values)\n",
    "\n",
    "# Add title and label y-axis\n",
    "plot.set(ylim=(0, 0.8), title=\"Survival Rate by Deck\", ylabel=\"Survival Rate\")\n",
    "\n",
    "print(plot)"
   ]
  },
  {
   "cell_type": "markdown",
   "id": "8625deef",
   "metadata": {},
   "source": [
    "It appears that the `Decks` with the lowest survival rates are the E and T `Decks`. However, seeing as the T Deck only has 3 passengers it is definitely an outlier and we can safely exclude it from our analysis. The E `Deck` on the other hand not only has the third largest number of passengers, it also has a similar number of passengers as B and C `Deck`. I think that it can be reasonably concluded that it was the most effected by the anomaly. Another thing to note is that the B and C `Decks` had the highest survival rates. "
   ]
  },
  {
   "cell_type": "markdown",
   "id": "95bc2f61",
   "metadata": {},
   "source": [
    "#### Question 4 Summary  <a name='p2q4-summary'></a>\n",
    "\n",
    "[Back to top](#top)\n",
    "\n",
    "Question 4 asks whether or not the location of the passengers cabin is related to their survival. Without a clear map of the ship's layout it would be difficult to pinpoint the point of impact with the anomaly. From our plotting, we were able to see that the Port `Side` had a lower survival rate. While `Deck` E appears to be the most impacted, A, D, and F all had survival rates below 50%. `Deck` G fared a bit better with a roughly 55% survival rate. The only thing that is clear from this analysis is that the survival rates for `Decks` B and C were much higher than that of the others. It could be possible that `Decks` B and C were the point of impact and the anomaly had a wide range of effect around them instead of directly that point. Further information would be required regarding the layout of the ship and possible other factors such as these decks being reserved for individuals in Cryosleep before any definite conclusions could be drawn."
   ]
  },
  {
   "cell_type": "markdown",
   "id": "099252d0",
   "metadata": {},
   "source": [
    "## Part 2 Summary  <a name='p2-summary'></a>\n",
    "[Back to top](#top)\n",
    "\n",
    "In this part, we explored the relationship between several features and passenger survival. An analysis of `Destination` and `HomePlanet` showed that `HomePlanet` is likely a stronger predictor of `Transported` status than `Destination`. Interestingly, TRAPPIST-1e had the lowest survival rate despite being the most popular destination.\n",
    "\n",
    "When examining socioeconomic status, the survival rates were relatively similar across different socioeconomic classes. As such, no clear correlation was found between `TotalSpent`/`Class` (out proxy for socioeconomic status) and `Transported` status.\n",
    "\n",
    "The analysis also revealed that passengers in CryoSleep had a significantly higher survival rate compared to those not in CryoSleep, suggesting that CryoSleep was a reliable predictor of survival.\n",
    "\n",
    "Similarly, while the sample sizes leave a bit to be desired, `Deck` may be somewhat strongly correlated to `Transported`, while the effect of `Side` is less pronounced."
   ]
  },
  {
   "cell_type": "markdown",
   "id": "9cc4b75e",
   "metadata": {},
   "source": [
    "# Conclusion <a name='conclusion'></a>\n",
    "[Back to top](#top)\n",
    "\n",
    "In the sections above, we explored the Spaceship Titanic data set provided by Kaggle. The aim of the project was to explore the data set, but to also perform rudimentary analysis with regard to passegner survival (as indidcated by `Transported` status). \n",
    "\n",
    "Before the moving on to the analysis, however, we performed some data cleaning operations such as dropping `NaN` values from the data. We extracted the `Group`, `Deck`, `Side`, and `TotalSpent` features, dropping `Cabin`, `VIP`, `PassengerID`, `Name`, and the amenities spending features in the process. We then analyzed the distrubtion of cateogrical and numerical features before proceeding to survival analysis.\n",
    "\n",
    "Ultimately, the survival analysis focused on four questions, attempting to determine a correlation between `Transported` and each of the following features: `HomePlanet`, `Destination`, `TotalSpent`, `CryoSleep`, `Deck`, and `Side` (we also plotted survival rates by VIP status as part of our `VIP` exploration). Of these features, we found that `CryoSleep` had the strongest relationship to `Transported` while `Deck` might also be a strong indicator of survival. Further analysis of the other features will be required to draw more meaningful conclusions with respect to those features' effects on `Transported` status.\n",
    "\n",
    "Clearly, there are multiple factors that influence passenger survival, and this analysis did not focus on the combinative effect of features on passenger survival. This and other directions for future research are discussed in the next section."
   ]
  },
  {
   "cell_type": "markdown",
   "id": "e6c35ec0",
   "metadata": {},
   "source": [
    "# Future Directions <a name='future'></a>\n",
    "[Back to top](#top)\n",
    "\n",
    "The scope of this project was exploratory in nature, so there are certainly more insights to be gleaned from the data set. For example, more features could be extracted from the data set. The group portion of `PassengerId` and `Name` could be used to create a feature exploring the number of family members a passenger has on board. Similarly, further analyzing the `Group` feature as it relates to survival could be an interesting area of study.\n",
    "\n",
    "Additionally, the analysis presented here would greatly benefit from employment of more advance statistical methods. For example, since determing `Transported` for a given passenger is a binary problem, logisitic regression may be be used to determine the statistical significance of features as they relate to `Transported` (i.e., survival). As mentioned previously, analyzing the effect on survival of features in conjunction with one another would likely yield promising results."
   ]
  }
 ],
 "metadata": {
  "kernelspec": {
   "display_name": "Python 3 (ipykernel)",
   "language": "python",
   "name": "python3"
  },
  "language_info": {
   "codemirror_mode": {
    "name": "ipython",
    "version": 3
   },
   "file_extension": ".py",
   "mimetype": "text/x-python",
   "name": "python",
   "nbconvert_exporter": "python",
   "pygments_lexer": "ipython3",
   "version": "3.8.5"
  }
 },
 "nbformat": 4,
 "nbformat_minor": 5
}
