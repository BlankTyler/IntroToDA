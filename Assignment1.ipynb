{
 "cells": [
  {
   "cell_type": "markdown",
   "id": "51558f85",
   "metadata": {},
   "source": [
    "### Niharika Rasthapuram, Tyler Blankenship, Kao Takahama, Tyler Selby, Zach Seitz "
   ]
  },
  {
   "cell_type": "markdown",
   "id": "5b4e6f49",
   "metadata": {},
   "source": [
    "### 1) Write a Python program to count the number of strings where the string length is 2 or more and the string is a palindrome from the list of strings.\n",
    "Sample: ['abdefc', 'xygyz', 'abeba', '123321'] <br>\n",
    "output: 2"
   ]
  },
  {
   "cell_type": "code",
   "execution_count": 1,
   "id": "0e1131bb",
   "metadata": {},
   "outputs": [
    {
     "name": "stdout",
     "output_type": "stream",
     "text": [
      "True\n",
      "True\n",
      "True\n"
     ]
    }
   ],
   "source": [
    "def get_string_count(lst):\n",
    "    \"\"\"Count the number of strings in 'lst' that have length >= 2 and are palindromes.\"\"\"\n",
    "    count = 0\n",
    "    for item in lst:\n",
    "        if len(item) >= 2 and item[::-1] == item:\n",
    "            count += 1\n",
    "    return count\n",
    "\n",
    "# Test cases\n",
    "test_example = ['abdefc', 'xygyz', 'abeba', '123321']\n",
    "test_short = ['a', 'b', 'c', '1']\n",
    "test_no_palindrome = ['ab', 'bc', '12']\n",
    "\n",
    "# Note: if tests pass, nothing will print (i.e. only failed tests raise AssertionError)\n",
    "assert get_string_count(test_example) == 2, 'test_example failed'\n",
    "assert get_string_count(test_short) == 0, 'test_short failed'\n",
    "assert get_string_count(test_no_palindrome) == 0, 'test_no_palindrome failed'\n",
    "\n",
    "# Verify test cases\n",
    "print(get_string_count(test_example) == 2) # True\n",
    "print(get_string_count(test_short) == 0) # True\n",
    "print(get_string_count(test_no_palindrome) == 0) # True"
   ]
  },
  {
   "cell_type": "markdown",
   "id": "76819679",
   "metadata": {},
   "source": [
    "### 2) Write a Python function that takes two lists and returns the number of common members"
   ]
  },
  {
   "cell_type": "code",
   "execution_count": 2,
   "id": "e38835f1",
   "metadata": {},
   "outputs": [
    {
     "name": "stdout",
     "output_type": "stream",
     "text": [
      "True\n",
      "True\n",
      "True\n"
     ]
    }
   ],
   "source": [
    "def common_members(lst1, lst2):\n",
    "    \"\"\"Count the number of common (duplicate) elements among 'lst1' and 'lst2.'\"\"\"\n",
    "    count = 0\n",
    "    for item in lst1:\n",
    "        if item in lst2:\n",
    "            count += 1\n",
    "    return count\n",
    "\n",
    "# Test cases\n",
    "l1_no_common = ['a', 'b', 'c']\n",
    "l2_no_common = ['d', 'e', 'f']\n",
    "\n",
    "l1_common_int = [1, 2]\n",
    "l2_common_int = [1]\n",
    "\n",
    "l1_common_nested = [[1, 2, 3], [4], 6]\n",
    "l2_common_nested = [[1, 2, 3], [5], 6]\n",
    "\n",
    "# Note: if assertions pass, nothing will print (i.e. only failed tests raise AssertionError)\n",
    "assert common_members(l1_no_common, l2_no_common) == 0, 'no_common failed'\n",
    "assert common_members(l1_common_int, l2_common_int) == 1, 'common_int failed'\n",
    "assert common_members(l1_common_nested, l2_common_nested) == 2, 'common_nested failed'\n",
    "\n",
    "# Verify test cases\n",
    "print(common_members(l1_no_common, l2_no_common) == 0) # True\n",
    "print(common_members(l1_common_int, l2_common_int) == 1) # True\n",
    "print(common_members(l1_common_nested, l2_common_nested) == 2) # True"
   ]
  },
  {
   "cell_type": "markdown",
   "id": "50a4f482",
   "metadata": {},
   "source": [
    "### 3) Write a Python program to split a list into a list of dictionaries, with odd item as key and even item as value\n",
    "Sample: ['a', 'b', 'c', 'd', 'e', 'f', 'g', 'h', 'i', 'j', 'k', 'l', 'm', 'n'] <br>\n",
    "Output: [{‘a’:’b’},{‘c’:’d’},{‘e’:’f’},{‘g’:’h’},{‘i’:’j’},{‘k’:’l’},{‘m’:’n’}]"
   ]
  },
  {
   "cell_type": "code",
   "execution_count": 3,
   "id": "f766f849",
   "metadata": {},
   "outputs": [
    {
     "name": "stdout",
     "output_type": "stream",
     "text": [
      "True\n",
      "List is of odd length; final element 'e' not included.\n",
      "True\n"
     ]
    }
   ],
   "source": [
    "def create_odd_dict(lst):\n",
    "    \"\"\"Create a dictionary where keys are elements of 'lst' at odd indices\n",
    "    and values are elements of 'lst' at even indices.\n",
    "    \"\"\"\n",
    "    return_lst = []\n",
    "    i = 0\n",
    "    \n",
    "    while i < len(lst):\n",
    "        odd_dict = {}\n",
    "        try:\n",
    "            odd_dict[lst[i]] = lst[i+1]\n",
    "        \n",
    "        except: # Account for lists of odd length (no value for last element of lst)\n",
    "            print(f\"List is of odd length; final element '{lst[i]}' not included.\")\n",
    "            break\n",
    "        return_lst.append(odd_dict)\n",
    "        i += 2\n",
    "    return return_lst\n",
    "\n",
    "# Test cases\n",
    "test_example = ['a', 'b', 'c', 'd', 'e', 'f', 'g', 'h', 'i', 'j', 'k', 'l', 'm', 'n']\n",
    "expected_test_example = [{'a':'b'}, {'c':'d'}, {'e':'f'}, {'g':'h'}, {'i':'j'}, {'k':'l'}, {'m':'n'}]\n",
    "\n",
    "test_odd_lst = ['a', 'b', 'c', 'd', 'e']\n",
    "expected_odd_lst = [{'a': 'b'}, {'c': 'd'}] # 'e' should be excluded since it will have no dict value\n",
    "\n",
    "\n",
    "print(create_odd_dict(test_example) == expected_test_example) # True\n",
    "print(create_odd_dict(test_odd_lst) == expected_odd_lst) # True"
   ]
  },
  {
   "cell_type": "markdown",
   "id": "76736bae",
   "metadata": {},
   "source": [
    "### 4) Write a Python program to find a word which has the most number of letters from a list of words."
   ]
  },
  {
   "cell_type": "code",
   "execution_count": 4,
   "id": "b12d211e",
   "metadata": {},
   "outputs": [
    {
     "name": "stdout",
     "output_type": "stream",
     "text": [
      "True\n",
      "True\n"
     ]
    }
   ],
   "source": [
    "def get_longest_word(lst):\n",
    "    \"\"\"Get a list longest word(s) in 'lst.'\"\"\"\n",
    "    sorted_lst = sorted(lst, reverse=True)\n",
    "    longest_len = len(sorted_lst[0])\n",
    "    \n",
    "    return_lst = list(filter(lambda item: len(item)==longest_len, lst))\n",
    "    \n",
    "#     # If there is only 1 longest word, return word string.\n",
    "#     # Else, return list of words tied for longest\n",
    "#     if len(return_lst) == 1:\n",
    "#         return return_lst[0]\n",
    "#     else:\n",
    "#         return return_lst\n",
    "\n",
    "    return return_lst\n",
    "\n",
    "# Test cases\n",
    "test_lst = ['a', 'bb', 'ccc']\n",
    "expected_lst = ['ccc']\n",
    "\n",
    "test_equal_len = ['aaaa', 'bbbb', 'cccc']\n",
    "expected_equal_len = ['aaaa', 'bbbb', 'cccc']\n",
    "\n",
    "print(get_longest_word(test_lst) == expected_lst)\n",
    "print(get_longest_word(test_equal_len) == expected_equal_len)"
   ]
  },
  {
   "cell_type": "markdown",
   "id": "d9511279",
   "metadata": {},
   "source": [
    "### 5) Write a Python program to print all common values in a dictionary"
   ]
  },
  {
   "cell_type": "code",
   "execution_count": 5,
   "id": "8f4970e1",
   "metadata": {
    "scrolled": true
   },
   "outputs": [
    {
     "name": "stdout",
     "output_type": "stream",
     "text": [
      "Test One\n",
      "1\n",
      "Test Two\n",
      "Test Three\n",
      "1\n",
      "3\n"
     ]
    }
   ],
   "source": [
    "from collections import Counter\n",
    "\n",
    "def common_dict_values(dictionary):\n",
    "    \"\"\"Print all common (duplicate) values within 'dictionary.'\"\"\"\n",
    "    count_dict = Counter(dictionary.values())\n",
    "    \n",
    "    # Create a list of tuples where the first element is the dict value and the second element is the count\n",
    "    # Only keep elements with count > 1\n",
    "    commons = list(filter(lambda item: item[1] > 1, count_dict.items()))\n",
    "    \n",
    "    # Print the common elements\n",
    "    for val in commons:\n",
    "        print(val[0])\n",
    "\n",
    "# Test cases        \n",
    "print(\"Test One\")\n",
    "test_dict = {'a': 1, 'b': 1, 'c': 2, 'd': 3, 'e': 1}\n",
    "common_dict_values(test_dict) # Prints '1'\n",
    "\n",
    "print(\"Test Two\")\n",
    "test_no_common = {'a': 1, 'b': 2, 'c': 4, 'd': 3, 'e': 5}\n",
    "common_dict_values(test_no_common) # Prints nothing \n",
    "\n",
    "print(\"Test Three\")\n",
    "test_multi_common = {'a': 1, 'b': 1, 'c': 3, 'd': 3, 'e': 5}\n",
    "common_dict_values(test_multi_common) # Prints 1, 3"
   ]
  },
  {
   "cell_type": "markdown",
   "id": "cee80de4",
   "metadata": {},
   "source": [
    "### 6) Write a Python program to combine two dictionaries based on their keys, if two keys are the same, sum their values together"
   ]
  },
  {
   "cell_type": "code",
   "execution_count": 10,
   "id": "e0ffc3e5",
   "metadata": {},
   "outputs": [
    {
     "name": "stdout",
     "output_type": "stream",
     "text": [
      "True\n",
      "True\n"
     ]
    }
   ],
   "source": [
    "def combine_dicts(dict1, dict2):\n",
    "    \"\"\"Create a combined dictionary of 'dict1' and 'dict2'. If duplicate keys, sum values\n",
    "    Dictionary values must be numeric (int, float, complex).\n",
    "    \"\"\"\n",
    "    # Create deep copy of dict1 for modifying\n",
    "    combined = dict1.copy()\n",
    "    \n",
    "    for key, value in dict2.items():\n",
    "        # Ensure key is both a duplicate and numeric (able to be summed).\n",
    "        if key in dict1.keys() and isinstance(value, (int, float, complex)):\n",
    "            combined[key] += value\n",
    "        else:\n",
    "            combined.update({key: value})\n",
    "    return combined\n",
    "\n",
    "# Test cases\n",
    "test_dict1 = {'a': 1, 'b': 2, 'c': 3}\n",
    "test_dict2 = {'d': 4, 'a': 6}\n",
    "test_dict_expected = {'a': 7, 'b': 2, 'c': 3, 'd': 4}\n",
    "\n",
    "test_no_same_key1 = {'a': 1, 'b': 2, 'c': 3}\n",
    "test_no_same_key2 = {'d': 4, 'e': 6}\n",
    "test_no_same_expected = {'a': 1, 'b': 2, 'c': 3, 'd': 4, 'e': 6}\n",
    "\n",
    "\n",
    "print(combine_dicts(test_dict1, test_dict2) == test_dict_expected) # True\n",
    "print(combine_dicts(test_no_same_key1, test_no_same_key2) == test_no_same_expected) # True"
   ]
  },
  {
   "cell_type": "markdown",
   "id": "15a35531",
   "metadata": {},
   "source": [
    "### 7) Write a Python program to remove tuple(s) which has certain given value from a list of tuples"
   ]
  },
  {
   "cell_type": "code",
   "execution_count": 17,
   "id": "7df9d434",
   "metadata": {},
   "outputs": [
    {
     "name": "stdout",
     "output_type": "stream",
     "text": [
      "True\n",
      "True\n"
     ]
    }
   ],
   "source": [
    "def remove_from_tuple(value, lst):\n",
    "    \"\"\"Create a copy of 'lst' with all containers containing 'value' removed.\n",
    "    'lst' must be a list of containers.\n",
    "    \"\"\"\n",
    "    cropped = lst.copy()\n",
    "    \n",
    "    for index, container in enumerate(cropped):\n",
    "        if value in container:\n",
    "            cropped.pop(index)\n",
    "    return cropped\n",
    "\n",
    "# Test cases\n",
    "remove_val = 2\n",
    "\n",
    "test_lst = [(1, 1), (2, 3), (4, 5)]\n",
    "test_lst_expected = [(1, 1), (4, 5)]\n",
    "\n",
    "test_no_val = [(1, 1), (3, 3), (4, 5)]\n",
    "test_no_val_expected = [(1, 1), (3, 3), (4, 5)]\n",
    "\n",
    "print(remove_from_tuple(remove_val, test_lst) == test_lst_expected) # True\n",
    "print(remove_from_tuple(remove_val, test_no_val) == test_no_val_expected) # True"
   ]
  },
  {
   "cell_type": "markdown",
   "id": "efd4e5b3",
   "metadata": {},
   "source": [
    "### 8) Write a Python program to sort a list of tuples by the first element in the tuple"
   ]
  },
  {
   "cell_type": "code",
   "execution_count": 20,
   "id": "a2cd13c3",
   "metadata": {},
   "outputs": [
    {
     "name": "stdout",
     "output_type": "stream",
     "text": [
      "True\n",
      "True\n"
     ]
    }
   ],
   "source": [
    "def sort_list(lst):\n",
    "    \"\"\"Return a copy of 'lst' sorted by the first element of each container.\n",
    "    Primarily a convenience wrapper for python's built-in sorted() function.\n",
    "    As such, this method follows all python sorting conventions.\n",
    "    'lst' must be a list of containers.\n",
    "    \"\"\"\n",
    "    copied = lst.copy()\n",
    "    return sorted(copied)\n",
    "\n",
    "# Test cases\n",
    "test_lst = [(1, 2), (5, 6), (3, 2), (2, 10)]\n",
    "test_lst_expected = [(1, 2), (2, 10), (3, 2), (5, 6)]\n",
    "\n",
    "test_second_val = [(1, 2), (1, 5), (1, 3), (1, 6)]\n",
    "test_second_expected = [(1, 2), (1, 3), (1, 5), (1, 6)]\n",
    "\n",
    "print(sort_list(test_lst) == test_lst_expected) # True\n",
    "print(sort_list(test_second_val) == test_second_expected) # True"
   ]
  }
 ],
 "metadata": {
  "kernelspec": {
   "display_name": "Python 3 (ipykernel)",
   "language": "python",
   "name": "python3"
  },
  "language_info": {
   "codemirror_mode": {
    "name": "ipython",
    "version": 3
   },
   "file_extension": ".py",
   "mimetype": "text/x-python",
   "name": "python",
   "nbconvert_exporter": "python",
   "pygments_lexer": "ipython3",
   "version": "3.8.5"
  }
 },
 "nbformat": 4,
 "nbformat_minor": 5
}
